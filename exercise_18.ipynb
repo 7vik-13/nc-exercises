{
 "cells": [
  {
   "cell_type": "code",
   "execution_count": 1,
   "metadata": {},
   "outputs": [],
   "source": [
    "import numpy as np\n",
    "from math import factorial"
   ]
  },
  {
   "cell_type": "code",
   "execution_count": 2,
   "metadata": {},
   "outputs": [],
   "source": [
    "# Question 4\n",
    "def my_tay_approx_exp(x):\n",
    "    exp = 1\n",
    "    for i in range(1,8):\n",
    "        exp = exp + (x**i)/factorial(i)\n",
    "        print(f\"Order {i} approximation: {exp}\")\n",
    "    # Error bound for order 7 \n",
    "    m = max(1, np.exp(x))\n",
    "    print('Error bound:', m*x**8/factorial(8))\n",
    "    print('Actual error:', abs(np.exp(x) - exp))\n",
    "    return None"
   ]
  },
  {
   "cell_type": "code",
   "execution_count": 6,
   "metadata": {},
   "outputs": [
    {
     "name": "stdout",
     "output_type": "stream",
     "text": [
      "Order 1 approximation: 3.7\n",
      "Order 2 approximation: 7.345000000000001\n",
      "Order 3 approximation: 10.6255\n",
      "Order 4 approximation: 12.839837500000002\n",
      "Order 5 approximation: 14.035579750000002\n",
      "Order 6 approximation: 14.573663762500003\n",
      "Order 7 approximation: 14.781210453035717\n",
      "Error bound: 1.042280688000364\n",
      "Actual error: 0.09852127183711978\n"
     ]
    }
   ],
   "source": [
    "my_tay_approx_exp(2.7)"
   ]
  },
  {
   "cell_type": "code",
   "execution_count": 10,
   "metadata": {},
   "outputs": [
    {
     "name": "stdout",
     "output_type": "stream",
     "text": [
      "Order 1 approximation: 1.05\n",
      "Order 2 approximation: 1.05125\n",
      "Order 3 approximation: 1.0512708333333334\n",
      "Order 4 approximation: 1.05127109375\n",
      "Order 5 approximation: 1.0512710963541667\n",
      "Order 6 approximation: 1.051271096375868\n",
      "Order 7 approximation: 1.051271096376023\n",
      "Error bound: 1.0184840575939598e-15\n",
      "Actual error: 1.1102230246251565e-15\n"
     ]
    }
   ],
   "source": [
    "my_tay_approx_exp(0.05) "
   ]
  },
  {
   "cell_type": "code",
   "execution_count": 11,
   "metadata": {},
   "outputs": [
    {
     "name": "stdout",
     "output_type": "stream",
     "text": [
      "Order 1 approximation: -0.30000000000000004\n",
      "Order 2 approximation: 0.545\n",
      "Order 3 approximation: 0.17883333333333334\n",
      "Order 4 approximation: 0.29783750000000003\n",
      "Order 5 approximation: 0.2668964166666667\n",
      "Order 6 approximation: 0.27360031805555557\n",
      "Order 7 approximation: 0.2723553077976191\n",
      "Error bound: 0.0002023141669146826\n",
      "Actual error: 0.00017648523639351987\n"
     ]
    }
   ],
   "source": [
    "my_tay_approx_exp(-1.3)"
   ]
  }
 ],
 "metadata": {
  "kernelspec": {
   "display_name": "Python 3",
   "language": "python",
   "name": "python3"
  },
  "language_info": {
   "codemirror_mode": {
    "name": "ipython",
    "version": 3
   },
   "file_extension": ".py",
   "mimetype": "text/x-python",
   "name": "python",
   "nbconvert_exporter": "python",
   "pygments_lexer": "ipython3",
   "version": "3.12.3"
  }
 },
 "nbformat": 4,
 "nbformat_minor": 2
}
