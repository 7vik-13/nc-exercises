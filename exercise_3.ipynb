{
 "cells": [
  {
   "cell_type": "code",
   "execution_count": 1,
   "metadata": {},
   "outputs": [],
   "source": [
    "import numpy as np\n",
    "import math"
   ]
  },
  {
   "cell_type": "code",
   "execution_count": 2,
   "metadata": {},
   "outputs": [],
   "source": [
    "# Question 1\n",
    "def my_sinh(x):\n",
    "    return (np.exp(x) - np.exp(-x)) / 2"
   ]
  },
  {
   "cell_type": "code",
   "execution_count": 3,
   "metadata": {},
   "outputs": [
    {
     "name": "stdout",
     "output_type": "stream",
     "text": [
      "0.0\n",
      "1.1752011936438014\n",
      "3.626860407847019\n"
     ]
    }
   ],
   "source": [
    "print(my_sinh(0))\n",
    "print(my_sinh(1))\n",
    "print(my_sinh(2))"
   ]
  },
  {
   "cell_type": "code",
   "execution_count": 4,
   "metadata": {},
   "outputs": [],
   "source": [
    "# Question 2\n",
    "def my_checker_board(n):\n",
    "    res = np.ones((n, n))\n",
    "    for i in range(n):\n",
    "        for j in range(n):\n",
    "            if not (i + j) % 2 == 0:\n",
    "                res[i, j] = 0\n",
    "    return res"
   ]
  },
  {
   "cell_type": "code",
   "execution_count": 5,
   "metadata": {},
   "outputs": [
    {
     "data": {
      "text/plain": [
       "array([[1.]])"
      ]
     },
     "execution_count": 5,
     "metadata": {},
     "output_type": "execute_result"
    }
   ],
   "source": [
    "my_checker_board(1)"
   ]
  },
  {
   "cell_type": "code",
   "execution_count": 6,
   "metadata": {},
   "outputs": [
    {
     "data": {
      "text/plain": [
       "array([[1., 0.],\n",
       "       [0., 1.]])"
      ]
     },
     "execution_count": 6,
     "metadata": {},
     "output_type": "execute_result"
    }
   ],
   "source": [
    "my_checker_board(2)"
   ]
  },
  {
   "cell_type": "code",
   "execution_count": 7,
   "metadata": {},
   "outputs": [
    {
     "data": {
      "text/plain": [
       "array([[1., 0., 1.],\n",
       "       [0., 1., 0.],\n",
       "       [1., 0., 1.]])"
      ]
     },
     "execution_count": 7,
     "metadata": {},
     "output_type": "execute_result"
    }
   ],
   "source": [
    "my_checker_board(3)"
   ]
  },
  {
   "cell_type": "code",
   "execution_count": 8,
   "metadata": {},
   "outputs": [
    {
     "data": {
      "text/plain": [
       "array([[1., 0., 1., 0., 1.],\n",
       "       [0., 1., 0., 1., 0.],\n",
       "       [1., 0., 1., 0., 1.],\n",
       "       [0., 1., 0., 1., 0.],\n",
       "       [1., 0., 1., 0., 1.]])"
      ]
     },
     "execution_count": 8,
     "metadata": {},
     "output_type": "execute_result"
    }
   ],
   "source": [
    "my_checker_board(5)"
   ]
  },
  {
   "cell_type": "code",
   "execution_count": 9,
   "metadata": {},
   "outputs": [],
   "source": [
    "# Question 3\n",
    "def my_triangle(b, h):\n",
    "    return b * h / 2"
   ]
  },
  {
   "cell_type": "code",
   "execution_count": 10,
   "metadata": {},
   "outputs": [
    {
     "name": "stdout",
     "output_type": "stream",
     "text": [
      "0.5\n",
      "1.0\n",
      "30.0\n"
     ]
    }
   ],
   "source": [
    "print(my_triangle(1, 1))\n",
    "print(my_triangle(2, 1))\n",
    "print(my_triangle(12, 5))"
   ]
  },
  {
   "cell_type": "code",
   "execution_count": 11,
   "metadata": {},
   "outputs": [],
   "source": [
    "# Question 4\n",
    "def my_split_matrix(m):\n",
    "    ncol = m.shape[1]\n",
    "    num = 0\n",
    "    if ncol % 2 == 0:\n",
    "        num = ncol // 2\n",
    "    else:\n",
    "        num = (ncol // 2) + 1\n",
    "    m1 = m[:,np.arange(0,num)]\n",
    "    m2 = m[:,np.arange(num,ncol)]\n",
    "    return [m1, m2]\n",
    "\n"
   ]
  },
  {
   "cell_type": "code",
   "execution_count": 12,
   "metadata": {},
   "outputs": [
    {
     "name": "stdout",
     "output_type": "stream",
     "text": [
      "[[1 2]\n",
      " [4 5]\n",
      " [7 8]] \n",
      " [[3]\n",
      " [6]\n",
      " [9]]\n"
     ]
    }
   ],
   "source": [
    "m = np.array([[1, 2, 3], [4, 5, 6], [7, 8, 9]])\n",
    "m1, m2 = my_split_matrix(m)\n",
    "print(f\"{m1} \\n {m2}\")"
   ]
  },
  {
   "cell_type": "code",
   "execution_count": 13,
   "metadata": {},
   "outputs": [
    {
     "name": "stdout",
     "output_type": "stream",
     "text": [
      "[[1. 1. 1.]\n",
      " [1. 1. 1.]\n",
      " [1. 1. 1.]\n",
      " [1. 1. 1.]\n",
      " [1. 1. 1.]] \n",
      " [[1. 1.]\n",
      " [1. 1.]\n",
      " [1. 1.]\n",
      " [1. 1.]\n",
      " [1. 1.]]\n"
     ]
    }
   ],
   "source": [
    "m = np.ones((5, 5))\n",
    "m1, m2 = my_split_matrix(m)\n",
    "print(f\"{m1} \\n {m2}\")"
   ]
  },
  {
   "cell_type": "code",
   "execution_count": 14,
   "metadata": {},
   "outputs": [
    {
     "name": "stdout",
     "output_type": "stream",
     "text": [
      "[37.69911184307752, 15.707963267948966]\n",
      "[75.39822368615503, 50.26548245743669]\n"
     ]
    }
   ],
   "source": [
    "# Question 5\n",
    "def my_cylinder(r,h):\n",
    "    s = 2 * np.pi * r * (r + h)\n",
    "    v = np.pi * r **2 * h\n",
    "    return [s, v]\n",
    "\n",
    "print(my_cylinder(1, 5))\n",
    "print(my_cylinder(2, 4))"
   ]
  },
  {
   "cell_type": "code",
   "execution_count": 15,
   "metadata": {},
   "outputs": [
    {
     "name": "stdout",
     "output_type": "stream",
     "text": [
      "50\n",
      "0\n"
     ]
    }
   ],
   "source": [
    "# Question 6\n",
    "def my_n_odds(a):\n",
    "    return len(a[a % 2 ==1])\n",
    "\n",
    "print(my_n_odds(np.arange(100)))\n",
    "print(my_n_odds(np.arange(2, 100, 2)))"
   ]
  },
  {
   "cell_type": "code",
   "execution_count": 16,
   "metadata": {},
   "outputs": [
    {
     "name": "stdout",
     "output_type": "stream",
     "text": [
      "[[2. 2.]\n",
      " [2. 2.]\n",
      " [2. 2.]]\n",
      "[[2. 2. 2. 2.]]\n"
     ]
    }
   ],
   "source": [
    "# Question 7\n",
    "def my_twos(m,n):\n",
    "    temp = np.ones((m, n))\n",
    "    return (temp * 2)\n",
    "\n",
    "print(my_twos(3, 2))\n",
    "print(my_twos(1, 4))"
   ]
  },
  {
   "cell_type": "code",
   "execution_count": 17,
   "metadata": {},
   "outputs": [
    {
     "name": "stdout",
     "output_type": "stream",
     "text": [
      "3\n",
      "10\n"
     ]
    }
   ],
   "source": [
    "# Question 8 \n",
    "subtract = lambda x, y : x - y\n",
    "print(subtract(8, 5))\n",
    "print(subtract(3, -7))\n"
   ]
  },
  {
   "cell_type": "code",
   "execution_count": 18,
   "metadata": {},
   "outputs": [
    {
     "data": {
      "text/plain": [
       "'Programming is fun!'"
      ]
     },
     "execution_count": 18,
     "metadata": {},
     "output_type": "execute_result"
    }
   ],
   "source": [
    "# Question 9\n",
    "def add_string(s1, s2):\n",
    "    return s1 + s2\n",
    "\n",
    "s1 = add_string(\"Programming\", \" \")\n",
    "s2 = add_string(\"is \", \"fun!\")\n",
    "add_string(s1, s2)"
   ]
  },
  {
   "cell_type": "code",
   "execution_count": 19,
   "metadata": {},
   "outputs": [],
   "source": [
    "# Question 10\n",
    "# def fun(a):\n",
    "#     return 1\n",
    "\n",
    "# print(fun())\n",
    "# OUTPUT:\n",
    "# TypeError: fun() missing 1 required positional argument: 'a'\n"
   ]
  },
  {
   "cell_type": "code",
   "execution_count": 20,
   "metadata": {},
   "outputs": [],
   "source": [
    "# def nothing():\n",
    "# return 0\n",
    "# OUTPUT:\n",
    "# IndentialError: expected an indented block"
   ]
  },
  {
   "cell_type": "code",
   "execution_count": 21,
   "metadata": {},
   "outputs": [
    {
     "name": "stdout",
     "output_type": "stream",
     "text": [
      "Hi, my name is John and I am 26 years old.\n",
      "Hi, my name is Kate and I am 19 years old.\n"
     ]
    }
   ],
   "source": [
    "# Question 11\n",
    "def greeting(name, age):\n",
    "    out = \"Hi, my name is \" + name + \\\n",
    "        \" and I am \" + str(age) + \" years old.\"\n",
    "    return out\n",
    "\n",
    "print(greeting(\"John\", 26))\n",
    "print(greeting(\"Kate\", 19))"
   ]
  },
  {
   "cell_type": "code",
   "execution_count": 22,
   "metadata": {},
   "outputs": [
    {
     "name": "stdout",
     "output_type": "stream",
     "text": [
      "[ 9.42477796 37.69911184 84.82300165]\n"
     ]
    }
   ],
   "source": [
    "# Question 12\n",
    "def my_donut_area(r1, r2):\n",
    "    return np.pi * (r2 ** 2 - r1 ** 2)\n",
    "\n",
    "print(my_donut_area(np.arange(1, 4), np.arange(2, 7, 2)))"
   ]
  },
  {
   "cell_type": "code",
   "execution_count": 23,
   "metadata": {},
   "outputs": [
    {
     "name": "stdout",
     "output_type": "stream",
     "text": [
      "[1, 2]\n",
      "[0.47000000000000003, 0.48, 0.49, 0.5, 0.51, 0.52]\n"
     ]
    }
   ],
   "source": [
    "# Question 13 \n",
    "def my_within_tolerance(A, a, tol):\n",
    "    out = []\n",
    "    for i in A:\n",
    "        if abs(i-a)<tol:\n",
    "            out.append(i)\n",
    "    return out\n",
    "\n",
    "print(my_within_tolerance([0, 1, 2, 3], 1.5, 0.75))\n",
    "print(my_within_tolerance(np.arange(0, 1.01, 0.01), 0.5, 0.03))\n",
    "\n"
   ]
  },
  {
   "cell_type": "code",
   "execution_count": 24,
   "metadata": {},
   "outputs": [
    {
     "data": {
      "text/plain": [
       "[-3, -3, -3, -2, -1, 0, 1, 2, 3, 3, 3]"
      ]
     },
     "execution_count": 24,
     "metadata": {},
     "output_type": "execute_result"
    }
   ],
   "source": [
    "# Question 14\n",
    "def bounding_array(A, top, bottom):\n",
    "    out = []\n",
    "    for i in A:\n",
    "        if i <= bottom:\n",
    "            out.append(bottom)\n",
    "        elif bottom < i < top:\n",
    "            out.append(i)\n",
    "        else:\n",
    "            out.append(top)\n",
    "    return out\n",
    "\n",
    "bounding_array(np.arange(-5, 6, 1), 3, -3)"
   ]
  }
 ],
 "metadata": {
  "kernelspec": {
   "display_name": "Python 3",
   "language": "python",
   "name": "python3"
  },
  "language_info": {
   "codemirror_mode": {
    "name": "ipython",
    "version": 3
   },
   "file_extension": ".py",
   "mimetype": "text/x-python",
   "name": "python",
   "nbconvert_exporter": "python",
   "pygments_lexer": "ipython3",
   "version": "3.12.3"
  }
 },
 "nbformat": 4,
 "nbformat_minor": 2
}
