{
 "cells": [
  {
   "cell_type": "code",
   "execution_count": 1,
   "metadata": {},
   "outputs": [],
   "source": [
    "import numpy as np"
   ]
  },
  {
   "cell_type": "code",
   "execution_count": 2,
   "metadata": {},
   "outputs": [],
   "source": [
    "%load_ext line_profiler"
   ]
  },
  {
   "cell_type": "code",
   "execution_count": 3,
   "metadata": {},
   "outputs": [],
   "source": [
    "# Question 7\n",
    "def my_fib_iter1(n):\n",
    "    out = np.zeros(n)\n",
    "    out[:2] = 1\n",
    "    for i in range(2, n):\n",
    "        out[i] = out[i-1] + out[i-2]\n",
    "    return out"
   ]
  },
  {
   "cell_type": "code",
   "execution_count": 4,
   "metadata": {},
   "outputs": [
    {
     "name": "stdout",
     "output_type": "stream",
     "text": [
      "Timer unit: 1e-09 s\n",
      "\n",
      "Total time: 0.00150572 s\n",
      "File: /tmp/ipykernel_60985/738193631.py\n",
      "Function: my_fib_iter1 at line 2\n",
      "\n",
      "Line #      Hits         Time  Per Hit   % Time  Line Contents\n",
      "==============================================================\n",
      "     2                                           def my_fib_iter1(n):\n",
      "     3         1      18466.0  18466.0      1.2      out = np.zeros(n)\n",
      "     4         1      14358.0  14358.0      1.0      out[:2] = 1\n",
      "     5       999     416211.0    416.6     27.6      for i in range(2, n):\n",
      "     6       998    1054128.0   1056.2     70.0          out[i] = out[i-1] + out[i-2]\n",
      "     7         1       2554.0   2554.0      0.2      return out"
     ]
    }
   ],
   "source": [
    "%lprun -f my_fib_iter1 my_fib_iter1(1000)"
   ]
  },
  {
   "cell_type": "code",
   "execution_count": 5,
   "metadata": {},
   "outputs": [
    {
     "name": "stdout",
     "output_type": "stream",
     "text": [
      "608 µs ± 115 µs per loop (mean ± std. dev. of 7 runs, 1,000 loops each)\n"
     ]
    }
   ],
   "source": [
    "%timeit my_fib_iter1(1000)"
   ]
  },
  {
   "cell_type": "code",
   "execution_count": 6,
   "metadata": {},
   "outputs": [],
   "source": [
    "def my_fib_iter2(n):\n",
    "    out = [1, 1]\n",
    "    for i in range(2, n):\n",
    "        out.append(out[i-1]+out[i-2])\n",
    "    return np.array(out)"
   ]
  },
  {
   "cell_type": "code",
   "execution_count": 7,
   "metadata": {},
   "outputs": [
    {
     "name": "stdout",
     "output_type": "stream",
     "text": [
      "Timer unit: 1e-09 s\n",
      "\n",
      "Total time: 0.001415 s\n",
      "File: /tmp/ipykernel_60985/2532354586.py\n",
      "Function: my_fib_iter2 at line 1\n",
      "\n",
      "Line #      Hits         Time  Per Hit   % Time  Line Contents\n",
      "==============================================================\n",
      "     1                                           def my_fib_iter2(n):\n",
      "     2         1       1293.0   1293.0      0.1      out = [1, 1]\n",
      "     3       999     355253.0    355.6     25.1      for i in range(2, n):\n",
      "     4       998     537470.0    538.5     38.0          out.append(out[i-1]+out[i-2])\n",
      "     5         1     520986.0 520986.0     36.8      return np.array(out)"
     ]
    }
   ],
   "source": [
    "%lprun -f my_fib_iter2 my_fib_iter2(1000)"
   ]
  },
  {
   "cell_type": "code",
   "execution_count": 8,
   "metadata": {},
   "outputs": [
    {
     "name": "stdout",
     "output_type": "stream",
     "text": [
      "556 µs ± 33.3 µs per loop (mean ± std. dev. of 7 runs, 1,000 loops each)\n"
     ]
    }
   ],
   "source": [
    "%timeit my_fib_iter2(1000)"
   ]
  },
  {
   "cell_type": "code",
   "execution_count": 9,
   "metadata": {},
   "outputs": [],
   "source": [
    "# Extra:\n",
    "# If you don't need the whole array, but just the nth element\n",
    "def my_fib_iter3(n):\n",
    "    out = [1, 1, 2]\n",
    "    for i in range(4, n+1, 3):\n",
    "        out[0] = out[1] + out[2]\n",
    "        out[1] = out[2] + out[0]\n",
    "        out[2] = out[0] + out[1]\n",
    "    return out[(n-1)%3]"
   ]
  },
  {
   "cell_type": "code",
   "execution_count": 10,
   "metadata": {},
   "outputs": [
    {
     "name": "stdout",
     "output_type": "stream",
     "text": [
      "Timer unit: 1e-09 s\n",
      "\n",
      "Total time: 0.000616131 s\n",
      "File: /tmp/ipykernel_60985/4256324582.py\n",
      "Function: my_fib_iter3 at line 3\n",
      "\n",
      "Line #      Hits         Time  Per Hit   % Time  Line Contents\n",
      "==============================================================\n",
      "     3                                           def my_fib_iter3(n):\n",
      "     4         1       2004.0   2004.0      0.3      out = [1, 1, 2]\n",
      "     5       334     144916.0    433.9     23.5      for i in range(4, n+1, 3):\n",
      "     6       333     154237.0    463.2     25.0          out[0] = out[1] + out[2]\n",
      "     7       333     143590.0    431.2     23.3          out[1] = out[2] + out[0]\n",
      "     8       333     166345.0    499.5     27.0          out[2] = out[0] + out[1]\n",
      "     9         1       5039.0   5039.0      0.8      return out[(n-1)%3]"
     ]
    }
   ],
   "source": [
    "%lprun -f my_fib_iter3 my_fib_iter3(1000)"
   ]
  },
  {
   "cell_type": "code",
   "execution_count": 11,
   "metadata": {},
   "outputs": [
    {
     "name": "stdout",
     "output_type": "stream",
     "text": [
      "89 µs ± 4.72 µs per loop (mean ± std. dev. of 7 runs, 10,000 loops each)\n"
     ]
    }
   ],
   "source": [
    "%timeit my_fib_iter3(1000)"
   ]
  }
 ],
 "metadata": {
  "kernelspec": {
   "display_name": "Python 3",
   "language": "python",
   "name": "python3"
  },
  "language_info": {
   "codemirror_mode": {
    "name": "ipython",
    "version": 3
   },
   "file_extension": ".py",
   "mimetype": "text/x-python",
   "name": "python",
   "nbconvert_exporter": "python",
   "pygments_lexer": "ipython3",
   "version": "3.12.3"
  }
 },
 "nbformat": 4,
 "nbformat_minor": 2
}
