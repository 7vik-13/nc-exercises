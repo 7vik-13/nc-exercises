{
 "cells": [
  {
   "cell_type": "code",
   "execution_count": 1,
   "metadata": {},
   "outputs": [],
   "source": [
    "import numpy as np\n",
    "import math"
   ]
  },
  {
   "cell_type": "markdown",
   "metadata": {},
   "source": [
    "### Question 1\n",
    "#### Write down the characteristic equation for matrix A = $\\begin{bmatrix}3 & 2 \\\\ 5 & 3\\end{bmatrix}$"
   ]
  },
  {
   "cell_type": "code",
   "execution_count": 2,
   "metadata": {},
   "outputs": [
    {
     "data": {
      "text/latex": [
       "$x \\mapsto \\text{-1.0} - \\text{6.0}\\,x + \\text{1.0}\\,x^{2}$"
      ],
      "text/plain": [
       "Polynomial([-1., -6.,  1.], domain=[-1.,  1.], window=[-1.,  1.], symbol='x')"
      ]
     },
     "execution_count": 2,
     "metadata": {},
     "output_type": "execute_result"
    }
   ],
   "source": [
    "A = np.array([[3, 2], [5, 3]])\n",
    "poly = np.polynomial.Polynomial.fromroots(np.linalg.eigvals(A))\n",
    "poly"
   ]
  },
  {
   "cell_type": "code",
   "execution_count": 3,
   "metadata": {},
   "outputs": [],
   "source": [
    "def my_quad_solver(a,b,c):\n",
    "    r = []\n",
    "    disc = b**2 - 4*a*c\n",
    "    if disc == 0:\n",
    "        r += [-b / (2*a)]\n",
    "    elif disc > 0:\n",
    "        r += [(-b+math.sqrt(disc))/(2*a), (-b-math.sqrt(disc))/(2*a)]\n",
    "    else:\n",
    "        None\n",
    "    return r\n"
   ]
  },
  {
   "cell_type": "code",
   "execution_count": 4,
   "metadata": {},
   "outputs": [
    {
     "name": "stdout",
     "output_type": "stream",
     "text": [
      "True\n",
      "6.16227766016838 6.16227766016838\n",
      "True\n",
      "-0.16227766016837952 -0.16227766016837908\n"
     ]
    }
   ],
   "source": [
    "# Question 2\n",
    "roots = my_quad_solver(1, -6, -1) #--> eigenvalues from characteristic polynomial\n",
    "roots2 = np.linalg.eigvals(A)\n",
    "# Both methods give the same eigenvalues upto 14 decimal places.\n",
    "for i in range(2):\n",
    "    print(round(roots[i], 14) == round(roots2[i],14))\n",
    "    print(roots[i], roots2[i])"
   ]
  },
  {
   "cell_type": "code",
   "execution_count": 5,
   "metadata": {},
   "outputs": [],
   "source": [
    "def normalize(x):\n",
    "    x_n = x / x.max()\n",
    "    return x_n"
   ]
  },
  {
   "cell_type": "code",
   "execution_count": 6,
   "metadata": {},
   "outputs": [
    {
     "name": "stdout",
     "output_type": "stream",
     "text": [
      "[[0.63245553]\n",
      " [1.        ]]\n"
     ]
    }
   ],
   "source": [
    "# First eigenvector\n",
    "eigvec = []\n",
    "x = np.ones((2,1))\n",
    "for i in range(5):\n",
    "    x = np.dot(A, x)\n",
    "    x = normalize(x)\n",
    "\n",
    "print(f'{x}')\n",
    "eigvec.append(x)"
   ]
  },
  {
   "cell_type": "code",
   "execution_count": 7,
   "metadata": {},
   "outputs": [
    {
     "name": "stdout",
     "output_type": "stream",
     "text": [
      "[[ 1.        ]\n",
      " [-1.58113883]]\n"
     ]
    }
   ],
   "source": [
    "# Second eigenvector\n",
    "x = np.ones((2,1))\n",
    "a_inv = np.linalg.inv(A)\n",
    "for i in range(8):\n",
    "    x = np.dot(a_inv, x)\n",
    "    x = normalize(x)\n",
    "\n",
    "print(f'{x}')\n",
    "eigvec.append(x)"
   ]
  },
  {
   "cell_type": "code",
   "execution_count": 8,
   "metadata": {},
   "outputs": [
    {
     "name": "stdout",
     "output_type": "stream",
     "text": [
      "[[3.89736659]\n",
      " [6.16227764]]\n",
      "[[3.89736657]\n",
      " [6.16227766]]\n",
      "[[-0.16227766]\n",
      " [ 0.25658351]]\n",
      "[[-0.16227766]\n",
      " [ 0.25658351]]\n"
     ]
    }
   ],
   "source": [
    "# Question 3\n",
    "# Checking if Av = cv, c - eigenvalue, v - eigenvector\n",
    "for i in range(2):\n",
    "    print(np.dot(A,eigvec[i]))\n",
    "    print(roots[i]*eigvec[i])\n",
    "# They are same upto 7 decimal places. "
   ]
  }
 ],
 "metadata": {
  "kernelspec": {
   "display_name": "Python 3",
   "language": "python",
   "name": "python3"
  },
  "language_info": {
   "codemirror_mode": {
    "name": "ipython",
    "version": 3
   },
   "file_extension": ".py",
   "mimetype": "text/x-python",
   "name": "python",
   "nbconvert_exporter": "python",
   "pygments_lexer": "ipython3",
   "version": "3.12.3"
  }
 },
 "nbformat": 4,
 "nbformat_minor": 2
}
