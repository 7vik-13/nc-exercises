{
 "cells": [
  {
   "cell_type": "code",
   "execution_count": 10,
   "metadata": {},
   "outputs": [],
   "source": [
    "import numpy as np"
   ]
  },
  {
   "cell_type": "code",
   "execution_count": 11,
   "metadata": {},
   "outputs": [],
   "source": [
    "# Question 1\n",
    "def my_der_calc(f, a, b, N, option):\n",
    "    df = []\n",
    "    X = []\n",
    "    x = np.linspace(a, b, N)\n",
    "    h = (b-a)/(N-1)\n",
    "    if option == 'forward':\n",
    "        for i in range(N-1):\n",
    "            df.append((f(x[i+1]) - f(x[i]))/h)\n",
    "            X.append(x[i])\n",
    "    elif option == 'backward':\n",
    "        for i in range(1, N):\n",
    "            df.append((f(x[i]) - f(x[i-1]))/h)\n",
    "            X.append(x[i])\n",
    "    else:\n",
    "        for i in range(1, N-1):\n",
    "            df.append((f(x[i+1]) - f(x[i-1]))/(2*h))\n",
    "            X.append(x[i])\n",
    "    return [df, X]\n"
   ]
  },
  {
   "cell_type": "code",
   "execution_count": 12,
   "metadata": {},
   "outputs": [],
   "source": [
    "f = lambda x: x**2\n",
    "a = -1.1\n",
    "b = 1.1\n",
    "N = 12"
   ]
  },
  {
   "cell_type": "code",
   "execution_count": 13,
   "metadata": {},
   "outputs": [
    {
     "name": "stdout",
     "output_type": "stream",
     "text": [
      "-2.0  -1.1\n",
      "-1.6  -0.9\n",
      "-1.2  -0.7\n",
      "-0.8  -0.5\n",
      "-0.4  -0.3\n",
      " 0.0  -0.1\n",
      " 0.4  0.1\n",
      " 0.8  0.3\n",
      " 1.2  0.5\n",
      " 1.6  0.7\n",
      " 2.0  0.9\n"
     ]
    }
   ],
   "source": [
    "[df, X] = my_der_calc(f, a, b, N, 'forward')\n",
    "for i,j in zip(df, X):\n",
    "    print(f'{round(i, 2): < 5} {round(j, 2)}') # For a neater output"
   ]
  },
  {
   "cell_type": "code",
   "execution_count": 14,
   "metadata": {},
   "outputs": [
    {
     "name": "stdout",
     "output_type": "stream",
     "text": [
      "-2.0  -0.9\n",
      "-1.6  -0.7\n",
      "-1.2  -0.5\n",
      "-0.8  -0.3\n",
      "-0.4  -0.1\n",
      " 0.0  0.1\n",
      " 0.4  0.3\n",
      " 0.8  0.5\n",
      " 1.2  0.7\n",
      " 1.6  0.9\n",
      " 2.0  1.1\n"
     ]
    }
   ],
   "source": [
    "[df, X] = my_der_calc(f, a, b, N, 'backward')\n",
    "for i,j in zip(df, X):\n",
    "    print(f'{round(i, 2): < 5} {round(j, 2)}')"
   ]
  },
  {
   "cell_type": "code",
   "execution_count": 15,
   "metadata": {},
   "outputs": [
    {
     "name": "stdout",
     "output_type": "stream",
     "text": [
      "-1.8  -0.9\n",
      "-1.4  -0.7\n",
      "-1.0  -0.5\n",
      "-0.6  -0.3\n",
      "-0.2  -0.1\n",
      " 0.2  0.1\n",
      " 0.6  0.3\n",
      " 1.0  0.5\n",
      " 1.4  0.7\n",
      " 1.8  0.9\n"
     ]
    }
   ],
   "source": [
    "[df, X] = my_der_calc(f, a, b, N, 'central')\n",
    "for i,j in zip(df, X):\n",
    "    print(f'{round(i, 2): < 5} {round(j, 2)}')"
   ]
  }
 ],
 "metadata": {
  "kernelspec": {
   "display_name": "Python 3",
   "language": "python",
   "name": "python3"
  },
  "language_info": {
   "codemirror_mode": {
    "name": "ipython",
    "version": 3
   },
   "file_extension": ".py",
   "mimetype": "text/x-python",
   "name": "python",
   "nbconvert_exporter": "python",
   "pygments_lexer": "ipython3",
   "version": "3.12.3"
  }
 },
 "nbformat": 4,
 "nbformat_minor": 2
}
