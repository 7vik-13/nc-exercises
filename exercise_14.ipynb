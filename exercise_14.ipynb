{
 "cells": [
  {
   "cell_type": "code",
   "execution_count": 10,
   "metadata": {},
   "outputs": [],
   "source": [
    "import math\n",
    "import numpy as np"
   ]
  },
  {
   "cell_type": "code",
   "execution_count": 11,
   "metadata": {},
   "outputs": [],
   "source": [
    "# Question 3\n",
    "from numpy.linalg import norm\n",
    "from math import acos\n",
    "\n",
    "def my_is_similar(s1,s2,tol):\n",
    "    v1 = np.zeros(26)\n",
    "    v2 = np.zeros(26)\n",
    "    alpha = 'abcdefghijklmnopqrstuvwxyz'\n",
    "    for i in range(26):\n",
    "        v1[i] = s1.count(alpha[i])\n",
    "        v2[i] = s2.count(alpha[i])\n",
    "    theta = acos(np.dot(v1,v2)/(norm(v1)*norm(v2)))\n",
    "    return abs(theta) < tol   "
   ]
  },
  {
   "cell_type": "code",
   "execution_count": 12,
   "metadata": {},
   "outputs": [
    {
     "name": "stdout",
     "output_type": "stream",
     "text": [
      "True\n"
     ]
    }
   ],
   "source": [
    "s1 = 'numericalcomputing'\n",
    "s2 = 'fundamentalsofcomputingandprogramming'\n",
    "\n",
    "print(my_is_similar(s1,s2,math.pi/2))"
   ]
  },
  {
   "cell_type": "code",
   "execution_count": 13,
   "metadata": {},
   "outputs": [
    {
     "name": "stdout",
     "output_type": "stream",
     "text": [
      "False\n"
     ]
    }
   ],
   "source": [
    "s1 = 'acegikmoqsuwy'\n",
    "s2 = 'bdfhjlnprtvxz'\n",
    "\n",
    "print(my_is_similar(s1,s2,math.pi/2))"
   ]
  },
  {
   "cell_type": "code",
   "execution_count": 14,
   "metadata": {},
   "outputs": [],
   "source": [
    "# Question 4\n",
    "from numpy.linalg import matrix_rank\n",
    "def my_make_lin_ind(A):\n",
    "    m,n = A.shape\n",
    "    B = np.zeros((m,1))\n",
    "    B[:,0] = A[:,0]\n",
    "    r = 1\n",
    "    for i in range(1,n):\n",
    "        x = np.array([[j] for j in A[:,i]])\n",
    "        temp = np.concatenate((B, x),axis=1)\n",
    "        if matrix_rank(temp) == r+1:\n",
    "            B = temp\n",
    "            r += 1\n",
    "    \n",
    "    return B"
   ]
  },
  {
   "cell_type": "code",
   "execution_count": 15,
   "metadata": {},
   "outputs": [
    {
     "name": "stdout",
     "output_type": "stream",
     "text": [
      "[[ 12.  11. -24.  15.]\n",
      " [ 19.  10. -31.   9.]\n",
      " [  1.  21.  -5.  20.]\n",
      " [  6.  13. -10.   5.]\n",
      " [ 22.   2. -12.  23.]]\n"
     ]
    }
   ],
   "source": [
    "A = np.array([[12,24,0,11,-24,18,15],\\\n",
    "              [19,38,0,10,-31,25,9], \\\n",
    "              [1, 2, 0,21,-5, 3, 20],\\\n",
    "              [6, 12,0,13,-10,8, 5], \\\n",
    "              [22,44,0,2, -12,17,23]])\n",
    "\n",
    "print(my_make_lin_ind(A))"
   ]
  },
  {
   "cell_type": "code",
   "execution_count": 16,
   "metadata": {},
   "outputs": [],
   "source": [
    "# Question 12\n",
    "# Note: The solution is not unique and depends on how x and y are chosen.\n",
    "# Here I have just shared them equally.\n",
    "\n",
    "def my_flow_calculator(S,d):\n",
    "    x = y = S[0,1] / 2\n",
    "    z = S[0,0]\n",
    "    f = [z, d[0,2], -(z - d[0,2]- d[0,3]), x, y, x-d[0,0], y-d[0,1]]\n",
    "    f[5] -= f[2]\n",
    "    return [[j] for j in f]"
   ]
  },
  {
   "cell_type": "code",
   "execution_count": 17,
   "metadata": {},
   "outputs": [
    {
     "data": {
      "text/plain": [
       "[[10], [4], [-2], [5.0], [5.0], [3.0], [1.0]]"
      ]
     },
     "execution_count": 17,
     "metadata": {},
     "output_type": "execute_result"
    }
   ],
   "source": [
    "s = np.array([[10, 10]])\n",
    "d = np.array([[4, 4, 4, 4, 4]])\n",
    "\n",
    "my_flow_calculator(s,d)"
   ]
  },
  {
   "cell_type": "code",
   "execution_count": 18,
   "metadata": {},
   "outputs": [
    {
     "data": {
      "text/plain": [
       "[[10], [5], [-1], [5.0], [5.0], [3.0], [1.0]]"
      ]
     },
     "execution_count": 18,
     "metadata": {},
     "output_type": "execute_result"
    }
   ],
   "source": [
    "s = np.array([[10, 10]])\n",
    "d = np.array([[3, 4, 5, 4, 4]])\n",
    "\n",
    "my_flow_calculator(s,d)"
   ]
  }
 ],
 "metadata": {
  "kernelspec": {
   "display_name": "Python 3",
   "language": "python",
   "name": "python3"
  },
  "language_info": {
   "codemirror_mode": {
    "name": "ipython",
    "version": 3
   },
   "file_extension": ".py",
   "mimetype": "text/x-python",
   "name": "python",
   "nbconvert_exporter": "python",
   "pygments_lexer": "ipython3",
   "version": "3.12.3"
  }
 },
 "nbformat": 4,
 "nbformat_minor": 2
}
