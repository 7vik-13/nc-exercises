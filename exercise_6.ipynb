{
 "cells": [
  {
   "cell_type": "code",
   "execution_count": 29,
   "metadata": {},
   "outputs": [],
   "source": [
    "import numpy as np\n",
    "import math"
   ]
  },
  {
   "cell_type": "code",
   "execution_count": 30,
   "metadata": {},
   "outputs": [
    {
     "name": "stdout",
     "output_type": "stream",
     "text": [
      "6\n",
      "5050\n"
     ]
    }
   ],
   "source": [
    "# Question 1\n",
    "def my_sum(lst):\n",
    "    out = 0\n",
    "    for i in lst:\n",
    "        out += i\n",
    "    return out\n",
    "\n",
    "print(my_sum([1,2,3]))\n",
    "print(my_sum(range(1,101)))"
   ]
  },
  {
   "cell_type": "code",
   "execution_count": 31,
   "metadata": {},
   "outputs": [
    {
     "name": "stdout",
     "output_type": "stream",
     "text": [
      "[1, 1, 1, 1, 1]\n",
      "[1, 2, 3, 4, 5]\n",
      "[1, 26, 99, 244, 485]\n"
     ]
    }
   ],
   "source": [
    "# Question 2\n",
    "def my_chebyshev_poly1(n,x):\n",
    "    out = []\n",
    "    def my_sum(n, k):\n",
    "        if n == 0:\n",
    "            return 1\n",
    "        elif n == 1:\n",
    "            return k\n",
    "        else:\n",
    "            return 2*k*my_sum(n-1,k)-my_sum(n-2,k)\n",
    "    for i in x:\n",
    "        out.append(my_sum(n,i))\n",
    "    return out\n",
    "\n",
    "x = [1, 2, 3, 4, 5]\n",
    "print(my_chebyshev_poly1(0,x))\n",
    "print(my_chebyshev_poly1(1,x))\n",
    "print(my_chebyshev_poly1(3,x))"
   ]
  },
  {
   "cell_type": "code",
   "execution_count": 32,
   "metadata": {},
   "outputs": [
    {
     "name": "stdout",
     "output_type": "stream",
     "text": [
      "3\n",
      "4\n",
      "9\n",
      "61\n",
      "125\n"
     ]
    }
   ],
   "source": [
    "# Question 3\n",
    "def my_ackermann(m,n):\n",
    "    if m == 0:\n",
    "        return n+1\n",
    "    elif m > 0 and n == 0:\n",
    "        return my_ackermann(m-1,1)\n",
    "    elif m > 0 and n > 0:\n",
    "        return my_ackermann(m-1,my_ackermann(m,n-1))\n",
    "    \n",
    "print(my_ackermann(1,1))\n",
    "print(my_ackermann(1,2))\n",
    "print(my_ackermann(2,3))\n",
    "print(my_ackermann(3,3))\n",
    "print(my_ackermann(3,4))"
   ]
  },
  {
   "cell_type": "code",
   "execution_count": 33,
   "metadata": {},
   "outputs": [
    {
     "name": "stdout",
     "output_type": "stream",
     "text": [
      "10\n",
      "1\n",
      "120\n"
     ]
    }
   ],
   "source": [
    "# Question 4\n",
    "def my_n_choose_k(n,k):\n",
    "    if k == n or k == 0: \n",
    "        return 1 \n",
    "    elif k == 1:\n",
    "        return n\n",
    "    else:\n",
    "        return my_n_choose_k(n-1,k-1) + my_n_choose_k(n-1,k)\n",
    "    \n",
    "print(my_n_choose_k(10,1))\n",
    "print(my_n_choose_k(10,10))\n",
    "print(my_n_choose_k(10,3))\n"
   ]
  },
  {
   "cell_type": "code",
   "execution_count": 34,
   "metadata": {},
   "outputs": [
    {
     "name": "stdout",
     "output_type": "stream",
     "text": [
      "[50, 20, 1, 1, 0.25, 0.1, 0.05, 0.01, 0.01, 0.01]\n"
     ]
    }
   ],
   "source": [
    "# Question 5\n",
    "def my_change(cost, paid):\n",
    "    change = []\n",
    "    change_currency = [100, 50, 20, 10, 5, 1, 0.25, 0.10, 0.05, 0.01]\n",
    "    diff = paid - cost\n",
    "    while diff > 0.01: \n",
    "        for i in change_currency:\n",
    "            if diff >= i:\n",
    "                change.append(i)\n",
    "                diff -= i\n",
    "                break\n",
    "    return change\n",
    "\n",
    "print(my_change(27.57, 100))"
   ]
  },
  {
   "cell_type": "code",
   "execution_count": 35,
   "metadata": {},
   "outputs": [
    {
     "name": "stdout",
     "output_type": "stream",
     "text": [
      "1.6181818181818182\n",
      "1.618033988749895\n"
     ]
    }
   ],
   "source": [
    "# Question 6\n",
    "def my_golden_ratio(n):\n",
    "    if n == 1:\n",
    "        return 1\n",
    "    else: \n",
    "        return 1 + 1/my_golden_ratio(n-1)\n",
    "    \n",
    "print(my_golden_ratio(10))\n",
    "print((1+math.sqrt(5))/2)"
   ]
  },
  {
   "cell_type": "code",
   "execution_count": 36,
   "metadata": {},
   "outputs": [
    {
     "name": "stdout",
     "output_type": "stream",
     "text": [
      "2\n",
      "11\n",
      "1\n"
     ]
    }
   ],
   "source": [
    "# Question 7\n",
    "def my_gcd(a,b):\n",
    "    if b == 0:\n",
    "        return a\n",
    "    else:\n",
    "        return my_gcd(b,a%b)\n",
    "    \n",
    "print(my_gcd(10,4))\n",
    "print(my_gcd(33,121))\n",
    "print(my_gcd(18,1))"
   ]
  },
  {
   "cell_type": "code",
   "execution_count": 50,
   "metadata": {},
   "outputs": [
    {
     "name": "stdout",
     "output_type": "stream",
     "text": [
      "[1]\n",
      "[1, 1]\n",
      "[1, 2, 1]\n",
      "[1, 3, 3, 1]\n",
      "[1, 4, 6, 4, 1]\n"
     ]
    }
   ],
   "source": [
    "# Question 8\n",
    "def my_pascal_row(m):\n",
    "    if m == 1:\n",
    "        return [1]\n",
    "    out = [1]\n",
    "    for i in range(1,m-1):\n",
    "        lst = my_pascal_row(m-1)\n",
    "        out.append(lst[i-1]+lst[i])\n",
    "    out.append(1)\n",
    "    return out\n",
    "\n",
    "print(my_pascal_row(1))\n",
    "print(my_pascal_row(2))\n",
    "print(my_pascal_row(3))\n",
    "print(my_pascal_row(4))\n",
    "print(my_pascal_row(5))"
   ]
  },
  {
   "cell_type": "code",
   "execution_count": 38,
   "metadata": {},
   "outputs": [
    {
     "name": "stdout",
     "output_type": "stream",
     "text": [
      "[[1 1]\n",
      " [0 1]]\n",
      "[[1. 1. 1. 1. 1. 1. 1. 1.]\n",
      " [0. 0. 0. 0. 0. 0. 0. 1.]\n",
      " [0. 1. 1. 1. 1. 1. 0. 1.]\n",
      " [0. 1. 0. 0. 0. 1. 0. 1.]\n",
      " [0. 1. 0. 1. 0. 1. 0. 1.]\n",
      " [0. 1. 0. 1. 1. 1. 0. 1.]\n",
      " [0. 1. 0. 0. 0. 0. 0. 1.]\n",
      " [0. 1. 1. 1. 1. 1. 1. 1.]]\n"
     ]
    }
   ],
   "source": [
    "# Question 9\n",
    "def my_spiral_ones(n):\n",
    "    if n == 1:\n",
    "        return np.array([[1]])\n",
    "    elif n == 2:\n",
    "        return np.array([[1,1],[0,1]])\n",
    "    elif n == 3:\n",
    "        return np.array([[1,1,1],[0,0,1],[0,1,1]])\n",
    "    elif n == 4:\n",
    "        return np.array([[1,1,1,1],[0,0,0,1],[0,1,0,1],[0,1,1,1]])\n",
    "    \n",
    "    out = np.zeros((n,n))\n",
    "    out[0,:] = np.ones(n)\n",
    "    out[:,-1] = np.ones(n)\n",
    "    out[-1,1:] = np.ones(n-1)\n",
    "    out[2:,1] = np.ones(n-2)\n",
    "    out[2:-2, 2:-2] = my_spiral_ones(n-4) \n",
    "    return out\n",
    "\n",
    "print(my_spiral_ones(2))\n",
    "print(my_spiral_ones(8))\n",
    "    "
   ]
  },
  {
   "cell_type": "code",
   "execution_count": 39,
   "metadata": {},
   "outputs": [
    {
     "name": "stdout",
     "output_type": "stream",
     "text": [
      "[[1. 1. 1. 1.]\n",
      " [0. 0. 0. 1.]\n",
      " [0. 1. 0. 1.]\n",
      " [0. 1. 1. 1.]]\n",
      "[[1. 1. 1. 1. 1.]\n",
      " [0. 0. 0. 0. 1.]\n",
      " [0. 1. 1. 0. 1.]\n",
      " [0. 1. 0. 0. 1.]\n",
      " [0. 1. 1. 1. 1.]]\n"
     ]
    }
   ],
   "source": [
    "# Question 10\n",
    "def my_spiral_ones_2(n):\n",
    "    out = np.zeros((n,n))\n",
    "    cor = 'bot_right'\n",
    "    row_start = col_start = 0\n",
    "    row_end = col_end = n\n",
    "\n",
    "    while row_start < row_end and col_start < col_end:\n",
    "        rows = row_end - row_start\n",
    "        cols = col_end - col_start\n",
    "        if cor == 'top_right':\n",
    "            out[row_start:row_end, col_start:col_end] = np.zeros((rows, cols))\n",
    "            cor = 'top_left'\n",
    "            col_start += 1\n",
    "            row_start += 1\n",
    "        elif cor == 'top_left':            \n",
    "            out[row_start:row_end, col_start:col_end] = np.ones((rows, cols))\n",
    "            cor = 'bot_left'\n",
    "            col_start += 1\n",
    "            row_end -= 1\n",
    "        elif cor == 'bot_left':            \n",
    "            out[row_start:row_end, col_start:col_end] = np.zeros((rows, cols))\n",
    "            cor = 'bot_right'\n",
    "            col_end -= 1\n",
    "            row_end -= 1\n",
    "        elif cor == 'bot_right':            \n",
    "            out[row_start:row_end, col_start:col_end] = np.ones((rows, cols))\n",
    "            cor = 'top_right'\n",
    "            col_end -= 1\n",
    "            row_start += 1\n",
    "    return out\n",
    "\n",
    "print(my_spiral_ones_2(4))\n",
    "print(my_spiral_ones_2(5))\n"
   ]
  },
  {
   "cell_type": "code",
   "execution_count": 40,
   "metadata": {},
   "outputs": [
    {
     "name": "stdout",
     "output_type": "stream",
     "text": [
      "[[1. 1. 1. 1. 1. 1.]\n",
      " [0. 0. 0. 0. 0. 1.]\n",
      " [0. 1. 1. 1. 0. 1.]\n",
      " [0. 1. 0. 1. 0. 1.]\n",
      " [0. 1. 0. 0. 0. 1.]\n",
      " [0. 1. 1. 1. 1. 1.]]\n",
      "[[1. 1. 1.]\n",
      " [0. 0. 1.]\n",
      " [0. 1. 1.]]\n"
     ]
    }
   ],
   "source": [
    "def change_mat(m, n, dir):\n",
    "        res = np.zeros((m,n))\n",
    "        if dir == 'right':\n",
    "            res[0,:] = np.ones(n)\n",
    "            res[:,-1] = np.ones(m)\n",
    "        else:\n",
    "            res[:,0] = np.ones(m)\n",
    "            res[-1,:] = np.ones(n)\n",
    "        return res\n",
    "\n",
    "def my_spiral_ones_3(n):    \n",
    "    out = np.zeros((n,n))\n",
    "    dir = 'right'\n",
    "    row_start = col_start = 0\n",
    "    row_end = col_end = n\n",
    "    while row_start < row_end and col_start < col_end:\n",
    "        out[row_start:row_end, col_start:col_end] = \\\n",
    "            change_mat(row_end - row_start, col_end - col_start, dir)\n",
    "        col_start += 1\n",
    "        col_end -= 1\n",
    "        if dir == 'right':\n",
    "            row_start += 2\n",
    "            dir = 'left'\n",
    "        else:\n",
    "            row_end -= 2\n",
    "            dir = 'right'\n",
    "    return out\n",
    "\n",
    "print(my_spiral_ones_3(6))\n",
    "print(my_spiral_ones_3(3))"
   ]
  },
  {
   "cell_type": "code",
   "execution_count": 43,
   "metadata": {},
   "outputs": [
    {
     "name": "stdout",
     "output_type": "stream",
     "text": [
      "[[3, 2, 1], [], []]\n",
      "Move disk 1 from tower 1 to tower 3.\n",
      "Move disk 2 from tower 1 to tower 2.\n",
      "Move disk 1 from tower 3 to tower 2.\n",
      "Move disk 3 from tower 1 to tower 3.\n",
      "Move disk 1 from tower 2 to tower 1.\n",
      "Move disk 2 from tower 2 to tower 3.\n",
      "Move disk 1 from tower 1 to tower 3.\n",
      "[[], [], [3, 2, 1]]\n"
     ]
    }
   ],
   "source": [
    "# Question 12\n",
    "# For more details check out: https://en.wikipedia.org/wiki/Tower_of_Hanoi#Binary_solution\n",
    "def my_tower_hanoi(n):\n",
    "    tower_1 = [i for i in range(n,0,-1)]\n",
    "    tower_2 = []\n",
    "    tower_3 = []\n",
    "    towers = [tower_1, tower_2, tower_3]\n",
    "    move = 1\n",
    "    max = 2 ** n\n",
    "    while move < max:\n",
    "        temp1 = (move & move-1)%3\n",
    "        temp2 = ((move | move-1)+1)%3\n",
    "        disk = towers[temp1].pop()\n",
    "        towers[temp2].append(disk)\n",
    "        print(f'Move disk {disk} from tower {temp1+1} to tower {temp2+1}.')\n",
    "        move += 1\n",
    "\n",
    "my_tower_hanoi(3)\n",
    "\n"
   ]
  },
  {
   "cell_type": "code",
   "execution_count": 42,
   "metadata": {},
   "outputs": [
    {
     "name": "stdout",
     "output_type": "stream",
     "text": [
      "[1, 2, 3, 3, 5, 6, 8, 10]\n"
     ]
    }
   ],
   "source": [
    "# Question 14\n",
    "def partition(lst, start, end):\n",
    "    top = start - 1\n",
    "    compare_element = lst[end]\n",
    "\n",
    "    for i in range(start, end):\n",
    "        if lst[i] <= compare_element:\n",
    "            top += 1\n",
    "            lst[i], lst[top] = lst[top], lst[i]\n",
    "    \n",
    "    lst[top+1], lst[end] = lst[end], lst[top+1]\n",
    "    return top + 1\n",
    "\n",
    "def my_quicksort(lst, l=0, h=None):\n",
    "    if h == None:\n",
    "        h = len(lst)-1\n",
    "    size = h-l+1\n",
    "    stack = [0] * size\n",
    "\n",
    "    stack[0], stack[1] = l, h\n",
    "    top = 1\n",
    "\n",
    "    while top >= 0:\n",
    "        h = stack[top]\n",
    "        top -= 1\n",
    "        l = stack[top]\n",
    "        top -= 1\n",
    "\n",
    "        p = partition(lst, l, h)\n",
    "\n",
    "        if p-1 > l:\n",
    "            top = top + 1\n",
    "            stack[top] = l\n",
    "            top = top + 1\n",
    "            stack[top] = p - 1\n",
    "\n",
    "        if p+1 < h:\n",
    "            top = top + 1\n",
    "            stack[top] = p + 1\n",
    "            top = top + 1\n",
    "            stack[top] = h\n",
    "    \n",
    "    return lst\n",
    "\n",
    "print(my_quicksort([2, 1, 3, 5, 6, 3, 8, 10]))\n",
    "    "
   ]
  }
 ],
 "metadata": {
  "kernelspec": {
   "display_name": "Python 3",
   "language": "python",
   "name": "python3"
  },
  "language_info": {
   "codemirror_mode": {
    "name": "ipython",
    "version": 3
   },
   "file_extension": ".py",
   "mimetype": "text/x-python",
   "name": "python",
   "nbconvert_exporter": "python",
   "pygments_lexer": "ipython3",
   "version": "3.12.3"
  }
 },
 "nbformat": 4,
 "nbformat_minor": 2
}
