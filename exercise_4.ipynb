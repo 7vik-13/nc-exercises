{
 "cells": [
  {
   "cell_type": "code",
   "execution_count": 1,
   "metadata": {},
   "outputs": [],
   "source": [
    "import numpy as np\n",
    "import math"
   ]
  },
  {
   "cell_type": "code",
   "execution_count": 2,
   "metadata": {},
   "outputs": [
    {
     "name": "stdout",
     "output_type": "stream",
     "text": [
      "16.3935\n",
      "19.6722\n",
      "21.858000000000004\n",
      "27.3225\n"
     ]
    }
   ],
   "source": [
    "# Question 1\n",
    "def my_tip_calc(bill, party):\n",
    "    tips = 0\n",
    "    if party < 6:\n",
    "        tips = bill * 0.15\n",
    "    elif party < 8:\n",
    "        tips = bill * 0.18\n",
    "    elif party < 11:\n",
    "        tips = bill * 0.20\n",
    "    else:\n",
    "        tips = bill * 0.25\n",
    "    return tips\n",
    "\n",
    "print(my_tip_calc(109.29,3))\n",
    "print(my_tip_calc(109.29,7))\n",
    "print(my_tip_calc(109.29,9))\n",
    "print(my_tip_calc(109.29,12))"
   ]
  },
  {
   "cell_type": "code",
   "execution_count": 3,
   "metadata": {},
   "outputs": [],
   "source": [
    "# Question 2\n",
    "def my_mult_operation(a,b,operation):\n",
    "    out = 0\n",
    "    if operation == 'plus':\n",
    "        out = a + b\n",
    "    elif operation == 'minus':\n",
    "        out = a - b\n",
    "    elif operation == 'mult':\n",
    "        out = a * b\n",
    "    elif operation == 'div':\n",
    "        out = a / b\n",
    "    elif operation == 'pow':\n",
    "        out = a ** b\n",
    "    return out"
   ]
  },
  {
   "cell_type": "code",
   "execution_count": 4,
   "metadata": {},
   "outputs": [
    {
     "name": "stdout",
     "output_type": "stream",
     "text": [
      "[3 5 7 9]\n",
      "[-1 -1 -1 -1]\n",
      "[ 2  6 12 20]\n",
      "[0.5        0.66666667 0.75       0.8       ]\n",
      "[   1    8   81 1024]\n"
     ]
    }
   ],
   "source": [
    "x = np.array([1,2,3,4])\n",
    "y = np.array([2,3,4,5])\n",
    "\n",
    "print(my_mult_operation(x,y,'plus'))\n",
    "print(my_mult_operation(x,y,'minus'))\n",
    "print(my_mult_operation(x,y,'mult'))\n",
    "print(my_mult_operation(x,y,'div'))\n",
    "print(my_mult_operation(x,y,'pow'))"
   ]
  },
  {
   "cell_type": "code",
   "execution_count": 5,
   "metadata": {},
   "outputs": [
    {
     "name": "stdout",
     "output_type": "stream",
     "text": [
      "border\n",
      "inside\n",
      "outside\n"
     ]
    }
   ],
   "source": [
    "# Question 3\n",
    "def my_inside_triangle(x,y):\n",
    "    position = \"\"\n",
    "    if 0<x<1 and 0<y<1 and x+y<1:\n",
    "        position = \"inside\"\n",
    "    elif x==0 or y==0 or x+y==1:\n",
    "        position = \"border\"\n",
    "    else:\n",
    "        position = \"outside\"\n",
    "    return position\n",
    "\n",
    "print(my_inside_triangle(.5,.5))\n",
    "print(my_inside_triangle(.25,.25))\n",
    "print(my_inside_triangle(5,5))\n",
    "\n"
   ]
  },
  {
   "cell_type": "code",
   "execution_count": 6,
   "metadata": {},
   "outputs": [
    {
     "name": "stdout",
     "output_type": "stream",
     "text": [
      "[1, 2, 0.0, 0.0, 0.0, 0.0, 0.0, 0.0, 0.0, 0.0]\n",
      "[ 1  2  3  4  5  6  7  8  9 10]\n",
      "[3, 6, 13, 4, 0.0, 0.0, 0.0, 0.0, 0.0, 0.0]\n"
     ]
    }
   ],
   "source": [
    "# Question 4\n",
    "def my_make_size10(x):\n",
    "    size10 = []\n",
    "    if len(x) > 10:\n",
    "        size10 = x[0:10]\n",
    "    else:\n",
    "        size10 = list(x) + list(np.zeros(10 - len(x)))\n",
    "    return size10 \n",
    "\n",
    "print(my_make_size10(np.arange(1,3)))\n",
    "print(my_make_size10(np.arange(1,15)))\n",
    "print(my_make_size10([3,6,13,4]))"
   ]
  },
  {
   "cell_type": "code",
   "execution_count": 7,
   "metadata": {},
   "outputs": [],
   "source": [
    "# Question 5\n",
    "def my_make_size10_2(x):\n",
    "    out = list(x)\n",
    "    for i in range(10 - len(x)):\n",
    "        out.insert(len(out), 0)\n",
    "    return out[:10]"
   ]
  },
  {
   "cell_type": "code",
   "execution_count": 8,
   "metadata": {},
   "outputs": [
    {
     "name": "stdout",
     "output_type": "stream",
     "text": [
      "[1, 2, 0, 0, 0, 0, 0, 0, 0, 0]\n",
      "[1, 2, 3, 4, 5, 6, 7, 8, 9, 10]\n"
     ]
    }
   ],
   "source": [
    "print(my_make_size10_2(np.arange(1, 3)))\n",
    "print(my_make_size10_2(np.arange(1,15)))"
   ]
  },
  {
   "cell_type": "code",
   "execution_count": 9,
   "metadata": {},
   "outputs": [
    {
     "name": "stdout",
     "output_type": "stream",
     "text": [
      "A+\n",
      "B\n"
     ]
    }
   ],
   "source": [
    "# Question 6\n",
    "def my_letter_grader(percent):\n",
    "    percent_dict = {97:\"A+\", 93:\"A\", 90:\"A-\", 87:\"B+\", 83:\"B\", 80:\"B-\",\\\n",
    "                     77:\"C+\", 73:\"C\", 70:\"C-\", 67:\"D+\", 63:\"D\", 60:\"D-\", 0:\"F\"}\n",
    "    grade = \"\"\n",
    "    for i in percent_dict:\n",
    "        if percent >= i:\n",
    "            grade = percent_dict[i]\n",
    "            break\n",
    "    return grade\n",
    "\n",
    "print(my_letter_grader(97))\n",
    "print(my_letter_grader(84))"
   ]
  },
  {
   "cell_type": "code",
   "execution_count": 10,
   "metadata": {},
   "outputs": [
    {
     "name": "stdout",
     "output_type": "stream",
     "text": [
      "normal\n",
      "alarm!\n",
      "normal\n"
     ]
    }
   ],
   "source": [
    "# Question 7\n",
    "def my_nuke_alarm(s1, s2, s3):\n",
    "    response = \"normal\"\n",
    "    if abs(s2 -s1)>10 or abs(s3-s2)>10 or abs(s3-s1)>10:\n",
    "        response = \"alarm!\"\n",
    "    return response\n",
    "\n",
    "print(my_nuke_alarm(94,96,90))\n",
    "print(my_nuke_alarm(94,96,80))\n",
    "print(my_nuke_alarm(100,96,90))"
   ]
  },
  {
   "cell_type": "code",
   "execution_count": 11,
   "metadata": {},
   "outputs": [],
   "source": [
    "# Question 8\n",
    "def my_n_roots(a, b, c):\n",
    "    n_roots = 0\n",
    "    r = []\n",
    "    disc = b**2 - 4*a*c\n",
    "    if disc == 0:\n",
    "        n_roots = 1\n",
    "        r += [-b / (2*a)]\n",
    "    elif disc > 0:\n",
    "        n_roots = 2\n",
    "        r += [(-b+math.sqrt(disc))/(2*a), (-b-math.sqrt(disc))/(2*a)]\n",
    "    else:\n",
    "        n_roots = -2\n",
    "        z1 = complex(-b / (2*a), (math.sqrt(-disc))/(2*a))\n",
    "        z2 = complex(-b / (2*a), -(math.sqrt(-disc))/(2*a))\n",
    "        r += [z1, z2]\n",
    "    return n_roots, r"
   ]
  },
  {
   "cell_type": "code",
   "execution_count": 12,
   "metadata": {},
   "outputs": [
    {
     "name": "stdout",
     "output_type": "stream",
     "text": [
      "2 [3.0, -3.0]\n"
     ]
    }
   ],
   "source": [
    "n_roots, r = my_n_roots(1, 0, -9)\n",
    "print(n_roots, r)"
   ]
  },
  {
   "cell_type": "code",
   "execution_count": 13,
   "metadata": {},
   "outputs": [
    {
     "name": "stdout",
     "output_type": "stream",
     "text": [
      "-2 [(-0.6666666666666666+1.1055415967851332j), (-0.6666666666666666-1.1055415967851332j)]\n"
     ]
    }
   ],
   "source": [
    "n_roots, r = my_n_roots(3, 4, 5)\n",
    "print(n_roots, r)"
   ]
  },
  {
   "cell_type": "code",
   "execution_count": 14,
   "metadata": {},
   "outputs": [
    {
     "name": "stdout",
     "output_type": "stream",
     "text": [
      "1 [-1.0]\n"
     ]
    }
   ],
   "source": [
    "n_roots, r = my_n_roots(2, 4, 2)\n",
    "print(n_roots, r)"
   ]
  },
  {
   "cell_type": "code",
   "execution_count": 15,
   "metadata": {},
   "outputs": [
    {
     "name": "stdout",
     "output_type": "stream",
     "text": [
      "2.718281828459045\n",
      "0\n",
      "-0.9589242746631385\n"
     ]
    }
   ],
   "source": [
    "# Question 9\n",
    "def my_split_function(f,g,a,b,x):\n",
    "    if x<=a:\n",
    "        return f(x)\n",
    "    elif x>=b:\n",
    "        return g(x)\n",
    "    else:\n",
    "        return 0\n",
    "    \n",
    "print(my_split_function(np.exp,np.sin,2,4,1))\n",
    "print(my_split_function(np.exp,np.sin,2,4,3))\n",
    "print(my_split_function(np.exp,np.sin,2,4,5))"
   ]
  }
 ],
 "metadata": {
  "kernelspec": {
   "display_name": "Python 3",
   "language": "python",
   "name": "python3"
  },
  "language_info": {
   "codemirror_mode": {
    "name": "ipython",
    "version": 3
   },
   "file_extension": ".py",
   "mimetype": "text/x-python",
   "name": "python",
   "nbconvert_exporter": "python",
   "pygments_lexer": "ipython3",
   "version": "3.12.3"
  }
 },
 "nbformat": 4,
 "nbformat_minor": 2
}
