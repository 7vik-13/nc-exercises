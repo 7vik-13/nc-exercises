{
 "cells": [
  {
   "cell_type": "code",
   "execution_count": 1,
   "metadata": {},
   "outputs": [],
   "source": [
    "import numpy as np\n",
    "import math"
   ]
  },
  {
   "cell_type": "code",
   "execution_count": 2,
   "metadata": {},
   "outputs": [
    {
     "name": "stdout",
     "output_type": "stream",
     "text": [
      "1000\n"
     ]
    }
   ],
   "source": [
    "# Question 1\n",
    "y = 0\n",
    "for i in range(1000):\n",
    "    for j in range(1000):\n",
    "        if i == j:\n",
    "            y += 1\n",
    "\n",
    "print(y)\n",
    "# y will be 1000 after the completion of loops."
   ]
  },
  {
   "cell_type": "code",
   "execution_count": 3,
   "metadata": {},
   "outputs": [
    {
     "name": "stdout",
     "output_type": "stream",
     "text": [
      "45\n",
      "6\n"
     ]
    }
   ],
   "source": [
    "# Question 2\n",
    "def my_max(x):\n",
    "    out = x[0]\n",
    "    for i in x:\n",
    "        if i > out:\n",
    "            out = i\n",
    "    return out\n",
    "\n",
    "print(my_max([11, 32, 45, 41, 25]))\n",
    "print(my_max(range(7)))"
   ]
  },
  {
   "cell_type": "code",
   "execution_count": 4,
   "metadata": {},
   "outputs": [
    {
     "name": "stdout",
     "output_type": "stream",
     "text": [
      "[45, 41]\n",
      "[10, 9, 8]\n"
     ]
    }
   ],
   "source": [
    "# Question 3\n",
    "def my_n_max(x, n):\n",
    "    out = []\n",
    "    for i in range(n):\n",
    "        out.append(max(x))\n",
    "        x.remove(out[i])\n",
    "    return out\n",
    "\n",
    "print(my_n_max([11, 32, 45, 41, 25], 2))\n",
    "print(my_n_max([7, 9, 10, 5, 8, 3, 4, 6, 2, 1], 3))\n"
   ]
  },
  {
   "cell_type": "code",
   "execution_count": 5,
   "metadata": {},
   "outputs": [
    {
     "name": "stdout",
     "output_type": "stream",
     "text": [
      "[[ 0.54030231  0.90929743 -0.9899925 ]\n",
      " [-0.7568025   0.28366219 -0.2794155 ]\n",
      " [ 0.75390225  0.98935825 -0.91113026]]\n"
     ]
    }
   ],
   "source": [
    "# Question 4\n",
    "def my_trig_odd_even(m):\n",
    "    nrow , ncol = np.shape(m)\n",
    "    out = np.zeros((nrow, ncol))\n",
    "    for i in range(nrow):\n",
    "        for j in range(ncol):\n",
    "            if m[i, j] % 2 == 0:\n",
    "                out[i, j] = math.sin(m[i, j])\n",
    "            else:\n",
    "                out[i, j] = math.cos(m[i, j])\n",
    "    return out\n",
    "\n",
    "x = np.array([[1, 2, 3], [4, 5, 6], [7, 8, 9]])\n",
    "print(my_trig_odd_even(x))"
   ]
  },
  {
   "cell_type": "code",
   "execution_count": 6,
   "metadata": {},
   "outputs": [],
   "source": [
    "# Question 5\n",
    "def my_mat_mult(p, q):\n",
    "    nrow_p, ncol_p = np.shape(p)\n",
    "    nrow_q, ncol_q = np.shape(q)\n",
    "    out = np.zeros((nrow_p, ncol_q))\n",
    "    for i in range(nrow_p):\n",
    "        for j in range(ncol_q):\n",
    "            for k in range(ncol_p):\n",
    "                out[i, j] += p[i, k] * q[k, j]\n",
    "    return out"
   ]
  },
  {
   "cell_type": "code",
   "execution_count": 7,
   "metadata": {},
   "outputs": [
    {
     "name": "stdout",
     "output_type": "stream",
     "text": [
      "[[3. 3. 3.]\n",
      " [3. 3. 3.]\n",
      " [3. 3. 3.]]\n",
      "[[30. 30. 30.]\n",
      " [70. 70. 70.]]\n"
     ]
    }
   ],
   "source": [
    "r = np.ones((3, 3))\n",
    "print(my_mat_mult(r, r))\n",
    "p = np.array([[1, 2, 3, 4], [5, 6, 7, 8]])\n",
    "q = np.array([[1, 1, 1], [2, 2, 2], [3, 3, 3], [4, 4, 4]])\n",
    "print(my_mat_mult(p, q))"
   ]
  },
  {
   "cell_type": "code",
   "execution_count": 8,
   "metadata": {},
   "outputs": [
    {
     "name": "stdout",
     "output_type": "stream",
     "text": [
      "15\n",
      "11\n",
      "21\n"
     ]
    }
   ],
   "source": [
    "# Question 6\n",
    "def my_saving_plan(p0, i, goal):\n",
    "    years = 0\n",
    "    while p0 < goal:\n",
    "        p0 += p0 * i\n",
    "        years += 1\n",
    "    return years\n",
    "\n",
    "print(my_saving_plan(1000, 0.05, 2000))\n",
    "print(my_saving_plan(1000, 0.07, 2000))\n",
    "print(my_saving_plan(500, 0.07, 2000))"
   ]
  },
  {
   "cell_type": "code",
   "execution_count": 9,
   "metadata": {},
   "outputs": [
    {
     "name": "stdout",
     "output_type": "stream",
     "text": [
      "[0, 2, 3]\n"
     ]
    }
   ],
   "source": [
    "# Question 7\n",
    "def my_find(m):\n",
    "    out = [i for i in range(len(m)) if m[i] == 1]\n",
    "    return out\n",
    "\n",
    "print(my_find([1, 0, 1, 1, 0]))"
   ]
  },
  {
   "cell_type": "code",
   "execution_count": 10,
   "metadata": {},
   "outputs": [],
   "source": [
    "# Question 8\n",
    "\n",
    "from random import choice\n",
    "\n",
    "def my_monopoly_dice():\n",
    "    d1 = d2 = out = 0\n",
    "    while d1 == d2:\n",
    "        d1 = choice(range(1,7))\n",
    "        d2 = choice(range(1,7))\n",
    "        out += (d1 + d2)\n",
    "    return out"
   ]
  },
  {
   "cell_type": "code",
   "execution_count": 30,
   "metadata": {},
   "outputs": [
    {
     "data": {
      "text/plain": [
       "25"
      ]
     },
     "execution_count": 30,
     "metadata": {},
     "output_type": "execute_result"
    }
   ],
   "source": [
    "my_monopoly_dice()"
   ]
  },
  {
   "cell_type": "code",
   "execution_count": 11,
   "metadata": {},
   "outputs": [],
   "source": [
    "# Question 9\n",
    "def my_is_prime(n):\n",
    "    if n == 1:\n",
    "        return 0\n",
    "    if n == 2 or n == 3:\n",
    "        return 1\n",
    "    if n % 2 == 0 or n % 3 == 0:\n",
    "        return 0\n",
    "    for i in range(5, int(math.sqrt(n)) + 1, 6):\n",
    "        if n % i == 0 or n % (i + 2) == 0:\n",
    "            return 0\n",
    "    return 1"
   ]
  },
  {
   "cell_type": "code",
   "execution_count": 12,
   "metadata": {},
   "outputs": [
    {
     "data": {
      "text/plain": [
       "1"
      ]
     },
     "execution_count": 12,
     "metadata": {},
     "output_type": "execute_result"
    }
   ],
   "source": [
    "my_is_prime(1000000007)"
   ]
  },
  {
   "cell_type": "code",
   "execution_count": 13,
   "metadata": {},
   "outputs": [],
   "source": [
    "# Question 10\n",
    "def my_n_primes(n):\n",
    "    if n == 1:\n",
    "        return [2]\n",
    "    else:\n",
    "        out = [2,3]\n",
    "        primes = 2\n",
    "        i = 5\n",
    "        while primes < n:\n",
    "            if my_is_prime(i):\n",
    "                out.append(i)\n",
    "                primes += 1\n",
    "            i += 2\n",
    "            if my_is_prime(i):\n",
    "                out.append(i)\n",
    "                primes += 1\n",
    "            i += 4\n",
    "        if primes == n+1:\n",
    "            out.pop()\n",
    "        return out"
   ]
  },
  {
   "cell_type": "code",
   "execution_count": 14,
   "metadata": {},
   "outputs": [
    {
     "name": "stdout",
     "output_type": "stream",
     "text": [
      "[2, 3, 5, 7, 11, 13, 17, 19, 23, 29, 31, 37, 41, 43, 47, 53, 59, 61, 67, 71, 73, 79, 83, 89, 97]\n"
     ]
    }
   ],
   "source": [
    "print(my_n_primes(25))"
   ]
  },
  {
   "cell_type": "code",
   "execution_count": 15,
   "metadata": {},
   "outputs": [],
   "source": [
    "# Question 11\n",
    "def my_n_fib_primes(n):\n",
    "    fib = [1, 1, 2]\n",
    "    out = []\n",
    "    len_out = 0\n",
    "    while len_out <= n:\n",
    "        if my_is_prime(fib[-1]):\n",
    "            out.append(fib[-1])\n",
    "            len_out += 1\n",
    "        fib[0] = fib[1]\n",
    "        fib[1] = fib[2]\n",
    "        fib[2] = fib[0] + fib[1]\n",
    "    return out\n"
   ]
  },
  {
   "cell_type": "code",
   "execution_count": 16,
   "metadata": {},
   "outputs": [
    {
     "name": "stdout",
     "output_type": "stream",
     "text": [
      "[2, 3, 5, 13, 89, 233, 1597, 28657, 514229, 433494437, 2971215073]\n"
     ]
    }
   ],
   "source": [
    "print(my_n_fib_primes(10))"
   ]
  },
  {
   "cell_type": "code",
   "execution_count": 17,
   "metadata": {},
   "outputs": [],
   "source": [
    "# Question 12\n",
    "def my_trig_even_odd(M):\n",
    "    nrow, ncol = np.shape(M)\n",
    "    out = np.zeros((nrow, ncol))\n",
    "    for i in range(nrow):\n",
    "        for j in range(ncol):\n",
    "            if M[i, j] % 2 == 0:\n",
    "                out[i, j] = math.cos(math.pi/M[i, j])\n",
    "            else:\n",
    "                out[i, j] = math.sin(math.pi/M[i, j])\n",
    "    return out"
   ]
  },
  {
   "cell_type": "code",
   "execution_count": 18,
   "metadata": {},
   "outputs": [
    {
     "name": "stdout",
     "output_type": "stream",
     "text": [
      "[[0.8660254  0.70710678]\n",
      " [0.8660254  0.43388374]]\n"
     ]
    }
   ],
   "source": [
    "m = np.array([[3, 4], [6, 7]])\n",
    "print(my_trig_even_odd(m))"
   ]
  },
  {
   "cell_type": "code",
   "execution_count": 19,
   "metadata": {},
   "outputs": [
    {
     "name": "stdout",
     "output_type": "stream",
     "text": [
      "{'Los Angeles': [2, 4], 'New York': [1, 4], 'Miami': [4], 'Dallas': [1, 2, 3]}\n"
     ]
    }
   ],
   "source": [
    "# Question 13\n",
    "def my_connectivity_mat_2_dict(c, names):\n",
    "    node = {}\n",
    "    for i in range(len(names)):\n",
    "        temp = []\n",
    "        for j in range(len(names)):\n",
    "            if c[i, j] == 1:\n",
    "                temp.append(j+1)\n",
    "        node[names[i]] = temp\n",
    "    return node\n",
    "\n",
    "c = np.array([[0, 1, 0, 1], [1, 0, 0, 1], [0, 0, 0, 1], [1, 1, 1, 0]])\n",
    "names = [\"Los Angeles\", \"New York\", \"Miami\", \"Dallas\"]\n",
    "print(my_connectivity_mat_2_dict(c, names))"
   ]
  },
  {
   "cell_type": "code",
   "execution_count": 20,
   "metadata": {},
   "outputs": [
    {
     "name": "stdout",
     "output_type": "stream",
     "text": [
      "['TEST', 'DATA', 'ANALYZE']\n"
     ]
    }
   ],
   "source": [
    "# Question 14\n",
    "words = [\"test\", \"data\", \"analyze\"]\n",
    "cap_words = [i.upper() for i in words]\n",
    "print(cap_words)"
   ]
  }
 ],
 "metadata": {
  "kernelspec": {
   "display_name": "Python 3",
   "language": "python",
   "name": "python3"
  },
  "language_info": {
   "codemirror_mode": {
    "name": "ipython",
    "version": 3
   },
   "file_extension": ".py",
   "mimetype": "text/x-python",
   "name": "python",
   "nbconvert_exporter": "python",
   "pygments_lexer": "ipython3",
   "version": "3.12.3"
  }
 },
 "nbformat": 4,
 "nbformat_minor": 2
}
