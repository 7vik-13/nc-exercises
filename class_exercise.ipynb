{
 "cells": [
  {
   "cell_type": "markdown",
   "metadata": {},
   "source": [
    "### Question 1\n",
    "#### Which 0 to 9 pandigital number ***n*** has the property that the number formed by only first *i* digits of ***n*** is divisible by *i* for *i* = 1, 2, $\\ldots$, 10."
   ]
  },
  {
   "cell_type": "code",
   "execution_count": 2,
   "metadata": {},
   "outputs": [
    {
     "name": "stdout",
     "output_type": "stream",
     "text": [
      "3816547290\n"
     ]
    }
   ],
   "source": [
    "from itertools import permutations\n",
    "\n",
    "num = [i for i in range(1,10)]\n",
    "# Avoiding permutation over 0 has we know it will be in the last place\n",
    "\n",
    "for i in list(permutations(num)):\n",
    "    num = 0\n",
    "    for j in i:\n",
    "        num = 10*num + j\n",
    "    value = 0\n",
    "    for k in range(2,10):\n",
    "        if (num // (10**(9-k)) % k != 0):\n",
    "            value = 1\n",
    "            break\n",
    "    if value == 0:\n",
    "        print(num*10)\n",
    "\n"
   ]
  }
 ],
 "metadata": {
  "kernelspec": {
   "display_name": "Python 3",
   "language": "python",
   "name": "python3"
  },
  "language_info": {
   "codemirror_mode": {
    "name": "ipython",
    "version": 3
   },
   "file_extension": ".py",
   "mimetype": "text/x-python",
   "name": "python",
   "nbconvert_exporter": "python",
   "pygments_lexer": "ipython3",
   "version": "3.12.3"
  }
 },
 "nbformat": 4,
 "nbformat_minor": 2
}
