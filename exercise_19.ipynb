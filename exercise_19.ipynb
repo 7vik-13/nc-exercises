{
 "cells": [
  {
   "cell_type": "code",
   "execution_count": 11,
   "metadata": {},
   "outputs": [],
   "source": [
    "import numpy as np"
   ]
  },
  {
   "cell_type": "code",
   "execution_count": 12,
   "metadata": {},
   "outputs": [],
   "source": [
    "# Question 4\n",
    "def my_bisection(f,a,b,tol):\n",
    "    R = []\n",
    "    E = []\n",
    "    if f(b) < f(a):\n",
    "        a, b = b, a #To make elif conditions simpler.\n",
    "    while True:\n",
    "        m = (a+b)/2\n",
    "        R.append(m)\n",
    "        y_m = f(m)\n",
    "        E.append(abs(y_m))\n",
    "        if E[-1]<tol:\n",
    "            return [R, E]\n",
    "        elif y_m < 0:\n",
    "            a = m\n",
    "        else:\n",
    "            b = m"
   ]
  },
  {
   "cell_type": "code",
   "execution_count": 13,
   "metadata": {},
   "outputs": [
    {
     "data": {
      "text/plain": [
       "[[1.0, 1.5, 1.25, 1.375, 1.4375], [1.0, 0.25, 0.4375, 0.109375, 0.06640625]]"
      ]
     },
     "execution_count": 13,
     "metadata": {},
     "output_type": "execute_result"
    }
   ],
   "source": [
    "f = lambda x: x**2 - 2\n",
    "my_bisection(f, 0, 2, 1e-1)"
   ]
  },
  {
   "cell_type": "code",
   "execution_count": 14,
   "metadata": {},
   "outputs": [
    {
     "data": {
      "text/plain": [
       "[[1.0, 0.5, 0.75, 0.875, 0.8125, 0.78125],\n",
       " [0.30116867893975674,\n",
       "  0.39815702328616975,\n",
       "  0.050050108850486774,\n",
       "  0.126546644072702,\n",
       "  0.038323093040207756,\n",
       "  0.005866372111545948]]"
      ]
     },
     "execution_count": 14,
     "metadata": {},
     "output_type": "execute_result"
    }
   ],
   "source": [
    "f = lambda x: np.sin(x) - np.cos(x)\n",
    "my_bisection(f, 0, 2, 1e-2)"
   ]
  },
  {
   "cell_type": "code",
   "execution_count": 15,
   "metadata": {},
   "outputs": [],
   "source": [
    "# Question 5\n",
    "def my_newton(f,df,x0,tol):\n",
    "    R = []\n",
    "    E = []\n",
    "    while True:\n",
    "        R.append(x0)\n",
    "        y_m = f(x0)\n",
    "        E.append(abs(y_m))\n",
    "        if E[-1]<tol:\n",
    "            return [R, E]\n",
    "        else:\n",
    "            x0 -= y_m/df(x0)"
   ]
  },
  {
   "cell_type": "code",
   "execution_count": 16,
   "metadata": {},
   "outputs": [
    {
     "data": {
      "text/plain": [
       "[[1, 1.5, 1.4166666666666667, 1.4142156862745099],\n",
       " [1, 0.25, 0.006944444444444642, 6.007304882871267e-06]]"
      ]
     },
     "execution_count": 16,
     "metadata": {},
     "output_type": "execute_result"
    }
   ],
   "source": [
    "f = lambda x: x**2 - 2\n",
    "df = lambda x: 2*x\n",
    "my_newton(f, df, 1, 1e-5)"
   ]
  },
  {
   "cell_type": "code",
   "execution_count": 17,
   "metadata": {},
   "outputs": [
    {
     "data": {
      "text/plain": [
       "[[1, 0.782041901539138, 0.7853981759997019],\n",
       " [0.30116867893975674, 0.004746462127804163, 1.7822277875723103e-08]]"
      ]
     },
     "execution_count": 17,
     "metadata": {},
     "output_type": "execute_result"
    }
   ],
   "source": [
    "f = lambda x: np.sin(x) - np.cos(x)\n",
    "df = lambda x: np.cos(x) + np.sin(x)\n",
    "my_newton(f, df, 1, 1e-5)"
   ]
  }
 ],
 "metadata": {
  "kernelspec": {
   "display_name": "Python 3",
   "language": "python",
   "name": "python3"
  },
  "language_info": {
   "codemirror_mode": {
    "name": "ipython",
    "version": 3
   },
   "file_extension": ".py",
   "mimetype": "text/x-python",
   "name": "python",
   "nbconvert_exporter": "python",
   "pygments_lexer": "ipython3",
   "version": "3.12.3"
  }
 },
 "nbformat": 4,
 "nbformat_minor": 2
}
