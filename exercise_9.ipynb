{
 "cells": [
  {
   "cell_type": "code",
   "execution_count": 13,
   "metadata": {},
   "outputs": [
    {
     "name": "stdout",
     "output_type": "stream",
     "text": [
      "7\n",
      "85\n",
      "33554431\n"
     ]
    }
   ],
   "source": [
    "# Question 1\n",
    "def my_bin_2_dec(b):\n",
    "    l = len(b)\n",
    "    d = 0\n",
    "    for i in range(l):\n",
    "        d += b[i] * 2**(l-i-1)\n",
    "    return d\n",
    "\n",
    "print(my_bin_2_dec([1, 1, 1]))\n",
    "print(my_bin_2_dec([1, 0, 1, 0, 1, 0, 1]))\n",
    "print(my_bin_2_dec([1]*25))"
   ]
  },
  {
   "cell_type": "code",
   "execution_count": 14,
   "metadata": {},
   "outputs": [
    {
     "name": "stdout",
     "output_type": "stream",
     "text": [
      "[0]\n",
      "[1, 0, 1, 1, 1]\n",
      "[1, 0, 0, 0, 0, 0, 1, 1, 0, 0, 0, 1]\n"
     ]
    }
   ],
   "source": [
    "# Question 2\n",
    "def my_dec_2_bin(d):\n",
    "    if d == 0:\n",
    "        return [0]\n",
    "    res = []\n",
    "    while d>0:\n",
    "        res.append(d%2)\n",
    "        d = d // 2\n",
    "    b = res[::-1]\n",
    "    return b\n",
    "\n",
    "print(my_dec_2_bin(0))\n",
    "print(my_dec_2_bin(23))\n",
    "print(my_dec_2_bin(2097))"
   ]
  },
  {
   "cell_type": "code",
   "execution_count": 15,
   "metadata": {},
   "outputs": [
    {
     "name": "stdout",
     "output_type": "stream",
     "text": [
      "12654\n"
     ]
    }
   ],
   "source": [
    "# Question 3\n",
    "print(my_bin_2_dec(my_dec_2_bin(12654)))"
   ]
  },
  {
   "cell_type": "code",
   "execution_count": 16,
   "metadata": {},
   "outputs": [
    {
     "name": "stdout",
     "output_type": "stream",
     "text": [
      "[1, 0, 0, 0, 0, 0]\n",
      "[1, 1, 1, 0, 0, 1, 1]\n",
      "[1, 0, 1, 1]\n"
     ]
    }
   ],
   "source": [
    "# Question 4\n",
    "def my_bin_adder(b1, b2):\n",
    "    b = []\n",
    "    l1 = len(b1)\n",
    "    l2 = len(b2)\n",
    "    min_len = min(l1,l2)\n",
    "    max_len = max(l1,l2)\n",
    "\n",
    "    if l1 == min_len:\n",
    "        b1 = [0]*(max_len-l1) + b1\n",
    "    else:\n",
    "        b2 = [0]*(max_len-l2) + b2\n",
    "    \n",
    "    carry = 0\n",
    "    for i in range(-1,-max_len-1,-1):\n",
    "        sum = b1[i] + b2[i] + carry\n",
    "        b.append(sum%2)\n",
    "        carry = sum // 2\n",
    "    \n",
    "    if carry == 1:\n",
    "        b.append(carry)\n",
    "\n",
    "    return b[::-1]\n",
    "\n",
    "print(my_bin_adder([1, 1, 1, 1, 1], [1]))\n",
    "print(my_bin_adder([1, 1, 1, 1, 1], [1, 0, 1, 0, 1, 0, 0]))\n",
    "print(my_bin_adder([1, 1, 0], [1, 0, 1]))"
   ]
  },
  {
   "cell_type": "code",
   "execution_count": 17,
   "metadata": {},
   "outputs": [],
   "source": [
    "# Question 6\n",
    "# Note: Case of exponent being 2047 is not considered here.\n",
    "import decimal\n",
    "decimal.getcontext().prec = 30\n",
    "\n",
    "def my_ieee_2_dec(ieee):\n",
    "    sign_indicator = int(ieee[0])\n",
    "    exponent = my_bin_2_dec([int(i) for i in ieee[1:12]]) - 1023\n",
    "    fraction = 0\n",
    "    for i in range(12,64):\n",
    "        temp = int(ieee[i])\n",
    "        if temp == 1:\n",
    "            fraction += decimal.Decimal((0.5)**(i-11))\n",
    "    if exponent == -1023:\n",
    "        d = fraction * 2**(-1022)\n",
    "    else:\n",
    "        d = (1 + fraction) * 2**(exponent)\n",
    "    return d* (-1)**sign_indicator "
   ]
  },
  {
   "cell_type": "code",
   "execution_count": 18,
   "metadata": {},
   "outputs": [
    {
     "name": "stdout",
     "output_type": "stream",
     "text": [
      "-48.0\n"
     ]
    }
   ],
   "source": [
    "ieee =\"1100000001001000000000000000000000000000000000000000000000000000\"\n",
    "print(my_ieee_2_dec(ieee))"
   ]
  },
  {
   "cell_type": "code",
   "execution_count": 19,
   "metadata": {},
   "outputs": [
    {
     "name": "stdout",
     "output_type": "stream",
     "text": [
      "3.39999999999999991118215802998\n"
     ]
    }
   ],
   "source": [
    "ieee =\"0100000000001011001100110011001100110011001100110011001100110011\"\n",
    "print(my_ieee_2_dec(ieee))"
   ]
  },
  {
   "cell_type": "code",
   "execution_count": 20,
   "metadata": {},
   "outputs": [],
   "source": [
    "from math import floor\n",
    "\n",
    "def my_frac_to_bin(n,precision=10):\n",
    "    b = ''\n",
    "    for i in range(precision):\n",
    "        bit = floor(2*n)\n",
    "        b += str(bit)\n",
    "        n = (2*n) - bit   \n",
    "    return b       "
   ]
  },
  {
   "cell_type": "code",
   "execution_count": 21,
   "metadata": {},
   "outputs": [],
   "source": [
    "# Question 7\n",
    "# Note: Special cases of exponent are not included.\n",
    "def my_dec_2_ieee(d):\n",
    "    ieee = ''\n",
    "    if d<0:\n",
    "        d = -d\n",
    "        ieee += '1'\n",
    "    else:\n",
    "        ieee += '0'\n",
    "    \n",
    "    i = 0\n",
    "    while 2**i<=d:\n",
    "        i += 1\n",
    "    frac = ((d/2**(i-1))-1)\n",
    "    for j in my_dec_2_bin(1022+i):\n",
    "        ieee += str(j)\n",
    "    ieee += my_frac_to_bin(frac, 52)\n",
    "\n",
    "    return ieee"
   ]
  },
  {
   "cell_type": "code",
   "execution_count": 22,
   "metadata": {},
   "outputs": [
    {
     "data": {
      "text/plain": [
       "'0100000000101110010111101010001110011100001100011010010001101000'"
      ]
     },
     "execution_count": 22,
     "metadata": {},
     "output_type": "execute_result"
    }
   ],
   "source": [
    "d = 15.18484199625\n",
    "my_dec_2_ieee(d)"
   ]
  },
  {
   "cell_type": "code",
   "execution_count": 23,
   "metadata": {},
   "outputs": [
    {
     "data": {
      "text/plain": [
       "'1100000001110011010100100100010010010001001010011000100010010000'"
      ]
     },
     "execution_count": 23,
     "metadata": {},
     "output_type": "execute_result"
    }
   ],
   "source": [
    "d = -309.141740\n",
    "my_dec_2_ieee(d)"
   ]
  },
  {
   "cell_type": "code",
   "execution_count": 24,
   "metadata": {},
   "outputs": [
    {
     "data": {
      "text/plain": [
       "'1100000011011000101010010000000000000000000000000000000000000000'"
      ]
     },
     "execution_count": 24,
     "metadata": {},
     "output_type": "execute_result"
    }
   ],
   "source": [
    "d = -25252\n",
    "my_dec_2_ieee(d)"
   ]
  }
 ],
 "metadata": {
  "kernelspec": {
   "display_name": "Python 3",
   "language": "python",
   "name": "python3"
  },
  "language_info": {
   "codemirror_mode": {
    "name": "ipython",
    "version": 3
   },
   "file_extension": ".py",
   "mimetype": "text/x-python",
   "name": "python",
   "nbconvert_exporter": "python",
   "pygments_lexer": "ipython3",
   "version": "3.12.3"
  }
 },
 "nbformat": 4,
 "nbformat_minor": 2
}
