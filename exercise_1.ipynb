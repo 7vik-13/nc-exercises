{
 "cells": [
  {
   "cell_type": "code",
   "execution_count": 1,
   "metadata": {},
   "outputs": [],
   "source": [
    "import math"
   ]
  },
  {
   "cell_type": "code",
   "execution_count": 2,
   "metadata": {},
   "outputs": [
    {
     "data": {
      "text/plain": [
       "60.0"
      ]
     },
     "execution_count": 2,
     "metadata": {},
     "output_type": "execute_result"
    }
   ],
   "source": [
    "# Question 5\n",
    "base = 10\n",
    "height = 12\n",
    "1/2 * base * height"
   ]
  },
  {
   "cell_type": "code",
   "execution_count": 3,
   "metadata": {},
   "outputs": [
    {
     "name": "stdout",
     "output_type": "stream",
     "text": [
      "251.32741228718345\n",
      "235.61944901923448\n"
     ]
    }
   ],
   "source": [
    "# Question 6\n",
    "def cylinder_surf_area(radius, height):\n",
    "    return 2 * math.pi * radius * (radius + height)\n",
    "\n",
    "def cylinder_volume(radius, height):\n",
    "    return math.pi * radius ** 2 * height\n",
    "\n",
    "print(cylinder_surf_area(5, 3))\n",
    "print(cylinder_volume(5, 3))"
   ]
  },
  {
   "cell_type": "code",
   "execution_count": 4,
   "metadata": {},
   "outputs": [
    {
     "name": "stdout",
     "output_type": "stream",
     "text": [
      "2.5\n"
     ]
    }
   ],
   "source": [
    "# Question 7\n",
    "def slope(p1, p2):\n",
    "    return (p2[1] - p1[1]) / (p2[0] - p1[0])\n",
    "\n",
    "print(slope((3, 4), (5, 9)))"
   ]
  },
  {
   "cell_type": "code",
   "execution_count": 5,
   "metadata": {},
   "outputs": [
    {
     "name": "stdout",
     "output_type": "stream",
     "text": [
      "5.385164807134504\n"
     ]
    }
   ],
   "source": [
    "# Question 8\n",
    "def distance(p1, p2):\n",
    "    return math.sqrt((p2[0] - p1[0])**2 + (p2[1] - p1[1])**2)\n",
    "\n",
    "print(distance((3, 4), (5, 9)))"
   ]
  },
  {
   "cell_type": "code",
   "execution_count": 6,
   "metadata": {},
   "outputs": [
    {
     "data": {
      "text/plain": [
       "720"
      ]
     },
     "execution_count": 6,
     "metadata": {},
     "output_type": "execute_result"
    }
   ],
   "source": [
    "# Question 9\n",
    "math.factorial(6)"
   ]
  },
  {
   "cell_type": "code",
   "execution_count": 7,
   "metadata": {},
   "outputs": [
    {
     "name": "stdout",
     "output_type": "stream",
     "text": [
      "124\n"
     ]
    }
   ],
   "source": [
    "# Question 10\n",
    "def is_leap_year(year):\n",
    "    return (year % 4 == 0 and year % 100 != 0) or year % 400 == 0\n",
    "\n",
    "count = 0\n",
    "for i in range (1500, 2011):\n",
    "    if is_leap_year(i):\n",
    "        count += 1\n",
    "print(count)"
   ]
  },
  {
   "cell_type": "code",
   "execution_count": 8,
   "metadata": {},
   "outputs": [
    {
     "name": "stdout",
     "output_type": "stream",
     "text": [
      "3.1415927300133055\n",
      "3.141592653589794\n"
     ]
    }
   ],
   "source": [
    "# Question 11\n",
    "def pi_approx(n):\n",
    "    sum = 0\n",
    "    for i in range(0, n + 1):\n",
    "        sum += (math.factorial(4*i) * (1103 + 26390 * i)) / (math.factorial(i)**4 * 396**(4*i))\n",
    "    return 9801 / (sum * math.sqrt(2) * 2)\n",
    "\n",
    "print(pi_approx(0))\n",
    "print(pi_approx(1))"
   ]
  },
  {
   "cell_type": "code",
   "execution_count": 9,
   "metadata": {},
   "outputs": [
    {
     "name": "stdout",
     "output_type": "stream",
     "text": [
      "3.626860407847019\n",
      "3.626860407847019\n"
     ]
    }
   ],
   "source": [
    "# Question 12\n",
    "def hyperbolic_sin(x):\n",
    "    return (math.exp(x) - math.exp(-x)) / 2\n",
    "\n",
    "print(hyperbolic_sin(2))\n",
    "print(math.sinh(2))"
   ]
  },
  {
   "cell_type": "code",
   "execution_count": 10,
   "metadata": {},
   "outputs": [
    {
     "name": "stdout",
     "output_type": "stream",
     "text": [
      "True\n",
      "True\n",
      "True\n",
      "True\n"
     ]
    }
   ],
   "source": [
    "# Question 13\n",
    "def verify_1(theta):\n",
    "    return ((math.sin(theta) ** 2) + (math.cos(theta) ** 2)) == 1\n",
    "\n",
    "print(verify_1(math.pi))\n",
    "print(verify_1(math.pi / 2))\n",
    "print(verify_1(math.pi / 4))\n",
    "print(verify_1(math.pi / 6))"
   ]
  },
  {
   "cell_type": "code",
   "execution_count": 11,
   "metadata": {},
   "outputs": [
    {
     "data": {
      "text/plain": [
       "0.9986295347545738"
      ]
     },
     "execution_count": 11,
     "metadata": {},
     "output_type": "execute_result"
    }
   ],
   "source": [
    "# Question 14\n",
    "math.sin(math.radians(87))"
   ]
  },
  {
   "cell_type": "code",
   "execution_count": 12,
   "metadata": {},
   "outputs": [],
   "source": [
    "# Question 15\n",
    "# math.sni(0)\n",
    "\n",
    "# OUTPUT:\n",
    "# AttributeError: module 'math' has no attribute 'sni'"
   ]
  },
  {
   "cell_type": "code",
   "execution_count": 13,
   "metadata": {},
   "outputs": [],
   "source": [
    "# Question 16\n",
    "# math.sin()\n",
    "\n",
    "# OUTPUT:\n",
    "# TypeError: math.sin() takes exactly one argument (0 given)"
   ]
  },
  {
   "cell_type": "code",
   "execution_count": 14,
   "metadata": {},
   "outputs": [
    {
     "name": "stdout",
     "output_type": "stream",
     "text": [
      "False\n",
      "False\n"
     ]
    }
   ],
   "source": [
    "# Question 17\n",
    "def verify_2(p):\n",
    "    return p and not p\n",
    "\n",
    "print(verify_2(False))\n",
    "print(verify_2(True))"
   ]
  },
  {
   "cell_type": "code",
   "execution_count": 15,
   "metadata": {},
   "outputs": [
    {
     "name": "stdout",
     "output_type": "stream",
     "text": [
      "True\n",
      "True\n",
      "True\n",
      "True\n",
      "True\n",
      "True\n",
      "True\n",
      "True\n"
     ]
    }
   ],
   "source": [
    "# Question 18\n",
    "def de_morgan_1(p, q):\n",
    "    return not (p or q) == (not p and not q)\n",
    "\n",
    "def de_morgan_2(p, q): \n",
    "    return not (p and q) == (not p or not q)\n",
    "\n",
    "print(de_morgan_1(True, True))\n",
    "print(de_morgan_1(True, False))\n",
    "print(de_morgan_1(False, True))\n",
    "print(de_morgan_1(False, False))\n",
    "\n",
    "print(de_morgan_2(True, True))\n",
    "print(de_morgan_2(True, False))\n",
    "print(de_morgan_2(False, True))\n",
    "print(de_morgan_2(False, False))"
   ]
  },
  {
   "cell_type": "code",
   "execution_count": 16,
   "metadata": {},
   "outputs": [
    {
     "name": "stdout",
     "output_type": "stream",
     "text": [
      "True\n",
      "True\n",
      "False\n",
      "False\n"
     ]
    }
   ],
   "source": [
    "# Question 19\n",
    "def check_1(p, q):\n",
    "    return (p and q) or (p and not q)\n",
    "\n",
    "print(check_1(True, True))\n",
    "print(check_1(True, False))\n",
    "print(check_1(False, True))\n",
    "print(check_1(False, False))\n",
    "\n",
    "# Thus it is necessary for p to be false for the given expression to be flase."
   ]
  },
  {
   "cell_type": "code",
   "execution_count": 17,
   "metadata": {},
   "outputs": [
    {
     "name": "stdout",
     "output_type": "stream",
     "text": [
      "True\n",
      "True\n",
      "True\n",
      "True\n"
     ]
    }
   ],
   "source": [
    "# Question 20\n",
    "def or_equivalent(p, q):\n",
    "    return not (not p and not q)\n",
    "\n",
    "print(or_equivalent(True, True) == True)\n",
    "print(or_equivalent(True, False) == True)\n",
    "print(or_equivalent(False, True) == True)\n",
    "print(or_equivalent(False, False) == False)"
   ]
  },
  {
   "cell_type": "code",
   "execution_count": 18,
   "metadata": {},
   "outputs": [
    {
     "name": "stdout",
     "output_type": "stream",
     "text": [
      "True\n",
      "True\n",
      "True\n",
      "True\n"
     ]
    }
   ],
   "source": [
    "# Question 21\n",
    "def and_equivalent(p, q):\n",
    "    return not (not p or not q)\n",
    "\n",
    "print(and_equivalent(True, True) == True)\n",
    "print(and_equivalent(True, False) == False)\n",
    "print(and_equivalent(False, True) == False)\n",
    "print(and_equivalent(False, False) == False)"
   ]
  },
  {
   "cell_type": "code",
   "execution_count": 19,
   "metadata": {},
   "outputs": [
    {
     "name": "stdout",
     "output_type": "stream",
     "text": [
      "True\n",
      "True\n",
      "True\n",
      "True\n"
     ]
    }
   ],
   "source": [
    "# Question 22\n",
    "def xor_operator(p, q):\n",
    "    return (p and not q) or (not p and q)\n",
    "\n",
    "print(xor_operator(True, True) == False)\n",
    "print(xor_operator(True, False) == True)\n",
    "print(xor_operator(False, True) == True)\n",
    "print(xor_operator(False, False) == False)"
   ]
  },
  {
   "cell_type": "code",
   "execution_count": 20,
   "metadata": {},
   "outputs": [
    {
     "data": {
      "text/plain": [
       "-120.27311408976854"
      ]
     },
     "execution_count": 20,
     "metadata": {},
     "output_type": "execute_result"
    }
   ],
   "source": [
    "# Question 23\n",
    "math.e ** 2 * math.sin(math.pi / 6) + math.log(3) * math.cos(math.pi / 9) - 5 ** 3"
   ]
  },
  {
   "cell_type": "code",
   "execution_count": 21,
   "metadata": {},
   "outputs": [
    {
     "name": "stdout",
     "output_type": "stream",
     "text": [
      "False\n",
      "False\n"
     ]
    }
   ],
   "source": [
    "# Question 24\n",
    "p = 1\n",
    "q = 1\n",
    "a = 10\n",
    "b = 25\n",
    "print(not p and not q)\n",
    "print((a<b) and (a==b))"
   ]
  }
 ],
 "metadata": {
  "kernelspec": {
   "display_name": "Python 3",
   "language": "python",
   "name": "python3"
  },
  "language_info": {
   "codemirror_mode": {
    "name": "ipython",
    "version": 3
   },
   "file_extension": ".py",
   "mimetype": "text/x-python",
   "name": "python",
   "nbconvert_exporter": "python",
   "pygments_lexer": "ipython3",
   "version": "3.12.3"
  }
 },
 "nbformat": 4,
 "nbformat_minor": 2
}
